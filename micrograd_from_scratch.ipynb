{
 "cells": [
  {
   "cell_type": "markdown",
   "id": "cd4454b8-d218-4018-a860-168b0b77fa71",
   "metadata": {},
   "source": [
    "### Micrograd is a tiny autograd engine. An autograd engine is used to implement backpropogation.\n",
    "\n",
    "Backprop is used to calculate the derivate of the output with respect to the inputs. We then use this value to adjust the inputs to minimize the loss function."
   ]
  },
  {
   "cell_type": "markdown",
   "id": "6df1cdb0-9709-4ddc-807f-9e5fa0dfa80e",
   "metadata": {},
   "source": [
    "### 1. Understanding what a derivative is intuitively"
   ]
  },
  {
   "cell_type": "code",
   "execution_count": 2,
   "id": "3afdcfe1-73f3-4ed7-b945-aa2dbfcbac9f",
   "metadata": {},
   "outputs": [],
   "source": [
    "import math\n",
    "import numpy as np\n",
    "import matplotlib.pyplot as plt\n",
    "%matplotlib inline"
   ]
  },
  {
   "cell_type": "code",
   "execution_count": 2,
   "id": "2af1ea2c-7422-44c7-8cc2-2ffb424f898d",
   "metadata": {},
   "outputs": [],
   "source": [
    "def f(x):\n",
    "    return 3*x**2 - 4*x + 5"
   ]
  },
  {
   "cell_type": "code",
   "execution_count": 3,
   "id": "f33fefed-75f6-4d86-83c6-c05949095457",
   "metadata": {},
   "outputs": [
    {
     "data": {
      "text/plain": [
       "20.0"
      ]
     },
     "execution_count": 3,
     "metadata": {},
     "output_type": "execute_result"
    }
   ],
   "source": [
    "f(3.0)"
   ]
  },
  {
   "cell_type": "code",
   "execution_count": 4,
   "id": "9708d789-d834-4bea-bf7d-7836df243eff",
   "metadata": {},
   "outputs": [
    {
     "data": {
      "text/plain": [
       "[<matplotlib.lines.Line2D at 0x11754e180>]"
      ]
     },
     "execution_count": 4,
     "metadata": {},
     "output_type": "execute_result"
    },
    {
     "data": {
      "image/png": "[encoded data removed]",
      "text/plain": [
       "<Figure size 640x480 with 1 Axes>"
      ]
     },
     "metadata": {},
     "output_type": "display_data"
    }
   ],
   "source": [
    "xs = np.arange(-5, 5, 0.25) # array of values from -5 to 5, in steps of 0.25, not including 5\n",
    "ys = f(xs) # applies the function on all of the values in xs\n",
    "plt.plot(xs, ys)"
   ]
  },
  {
   "cell_type": "code",
   "execution_count": 5,
   "id": "1426a41a-c289-4bb3-b95e-30d448a55e5d",
   "metadata": {},
   "outputs": [
    {
     "data": {
      "text/plain": [
       "0.0"
      ]
     },
     "execution_count": 5,
     "metadata": {},
     "output_type": "execute_result"
    }
   ],
   "source": [
    "h = 0.000000001\n",
    "x = 2/3\n",
    "(f(x + h) - f(x))/h # the slope of the graph at the point x=3 (aka the derivative at x=3)\n",
    "# at 3, the slope is 14"
   ]
  },
  {
   "cell_type": "code",
   "execution_count": 6,
   "id": "377e867a-e832-4b0c-9a5f-55700d547c66",
   "metadata": {},
   "outputs": [
    {
     "name": "stdout",
     "output_type": "stream",
     "text": [
      "4.0\n"
     ]
    }
   ],
   "source": [
    "# more complex\n",
    "a = 2.0\n",
    "b = -3.0\n",
    "c = 10.0\n",
    "d = a*b + c\n",
    "print(d)"
   ]
  },
  {
   "cell_type": "code",
   "execution_count": 7,
   "id": "c3a3e824-d051-4a7d-b08f-bbc36d927396",
   "metadata": {},
   "outputs": [
    {
     "name": "stdout",
     "output_type": "stream",
     "text": [
      "d1 4.0\n",
      "d2 3.999699999999999\n",
      "slope -3.000000000010772\n"
     ]
    }
   ],
   "source": [
    "h = 0.0001\n",
    "\n",
    "# inputs\n",
    "a = 2.0\n",
    "b = -3.0\n",
    "c = 10.0\n",
    "\n",
    "d1 = a*b + c\n",
    "a += h  \n",
    "d2 = a*b + c # if we think this through, d2 would be smaller, because a will be slightly higher and b is a negative number, so the overall value is lower\n",
    "\n",
    "print('d1', d1)\n",
    "print('d2', d2)\n",
    "print('slope', (d2-d1)/h)"
   ]
  },
  {
   "cell_type": "markdown",
   "id": "9c7efff0-ef8d-4299-8268-6d5f002d7eb7",
   "metadata": {},
   "source": [
    "### 2. Building out the Value object"
   ]
  },
  {
   "cell_type": "code",
   "execution_count": 3,
   "id": "28604fb1-afa9-4754-9062-ed510260e777",
   "metadata": {},
   "outputs": [],
   "source": [
    "class Value: \n",
    "    def __init__(self, data, _children=(), _op='', label=''): # children is to get the child values and op is to get the operation \n",
    "        self.data = data\n",
    "        self.grad = 0.0\n",
    "        self._backward = lambda: None\n",
    "        self._prev = set(_children) # a set of the children tuples\n",
    "        self._op = _op\n",
    "        self.label = label\n",
    "        # we initialize children as a tuple for efficiency but define prev as a set for increased efficiency\n",
    "\n",
    "    # repr function is just to show the output nicely\n",
    "    def __repr__(self):\n",
    "        return f\"Value(data={self.data})\" \n",
    "\n",
    "    def __add__(self, other):\n",
    "        other = other if isinstance(other, Value) else Value(other) # checks if other is alr an instance of Value and if it isn't, creates an instance\n",
    "        # ^ allows us to add Value objects directly to integers\n",
    "        out = Value(self.data + other.data, (self, other), '+') # the plus operator is just floating point addition and we're wrapping that sum in a value object\n",
    "\n",
    "        def _backward():\n",
    "            self.grad += 1.0 * out.grad # addition gradient is just the value of the value\n",
    "            other.grad += 1.0 * out.grad\n",
    "        out._backward = _backward\n",
    "        return out\n",
    "    \n",
    "    def __mul__(self, other):\n",
    "        other = other if isinstance(other, Value) else Value(other) # checks if other is alr an instance of Value and if it isn't, creates an instance\n",
    "        out = Value(self.data * other.data, (self, other), '*')\n",
    "\n",
    "        def _backward():\n",
    "            self.grad += other.data * out.grad # x1.grad = w1 * x1w1.grad\n",
    "            other.grad += self.data * out.grad # w1.grad = x1 * x1w1.grad\n",
    "        out._backward = _backward \n",
    "        return out\n",
    "\n",
    "    def __pow__(self, other):\n",
    "        assert isinstance(other, (int, float)), \"only supporting int/float powers for now\"\n",
    "        out = Value(self.data**other, (self,), f'**{other}') \n",
    "\n",
    "        def _backward(): \n",
    "            self.grad += other * (self.data**(other-1)) * out.grad # power rule gives local gradient and we multiply by out.grad to get final gradient\n",
    "        out._backward = _backward\n",
    "        return out\n",
    "\n",
    "    def __radd__(self, other):\n",
    "        return self + other # performs other + self (fallback function for python if we're adding int + Value, which doesn't work)\n",
    "\n",
    "    def __rmul__(self, other):\n",
    "        return self * other # performs other * self\n",
    "        # this is used to allow us to do 2 * a, isntead of only a * 2, since python will check for a rmul fallback function and perform that operation with the values swapped\n",
    "\n",
    "    def __truediv__(self, other): # self/other\n",
    "        return self * other**-1\n",
    "    # instead of directly implementing division, we implement exponentiation, which is more powerful and versatile and easier to differentiate\n",
    "    \n",
    "    def __neg__(self): # -self\n",
    "        return self * -1\n",
    "\n",
    "    def __sub__(self, other):  # self - other\n",
    "        return self + (-other)\n",
    "    \n",
    "    def tanh(self):\n",
    "        x = self.data\n",
    "        t = (math.exp(2*x) - 1)/(math.exp(2*x) + 1)\n",
    "        out = Value(t, (self, ), 'tanh')\n",
    "\n",
    "        def _backward():\n",
    "            self.grad += (1 - t**2) * out.grad # multiplying out.grad with the local derivative of the tanh function\n",
    "        out._backward = _backward\n",
    "        return out\n",
    "\n",
    "    def exp(self):\n",
    "        x = self.data\n",
    "        out = Value(math.exp(x), (self,), 'exp')\n",
    "\n",
    "        def _backward():\n",
    "            self.grad += out.data * out.grad # (e^x)' = e^x and we're multiplying that with the current running grad\n",
    "        out._backward = _backward\n",
    "        return out\n",
    "        \n",
    "    def backward(self):\n",
    "        topo = []\n",
    "        visited = set()\n",
    "        def build_topo(v):\n",
    "            if v not in visited:\n",
    "                visited.add(v)\n",
    "                for child in v._prev:\n",
    "                    build_topo(child)\n",
    "                topo.append(v)\n",
    "        build_topo(self)\n",
    "        \n",
    "        self.grad = 1.0\n",
    "        for node in reversed(topo):\n",
    "            node._backward()"
   ]
  },
  {
   "cell_type": "code",
   "execution_count": 85,
   "id": "b326a3dd-03fa-4d7d-9fb3-476105a23c65",
   "metadata": {},
   "outputs": [
    {
     "data": {
      "text/plain": [
       "Value(data=1.5)"
      ]
     },
     "execution_count": 85,
     "metadata": {},
     "output_type": "execute_result"
    }
   ],
   "source": [
    "a = Value(2.0)\n",
    "a-0.5"
   ]
  },
  {
   "cell_type": "code",
   "execution_count": 4,
   "id": "abbb8f36-1b22-41f5-be47-df6b52ff0957",
   "metadata": {},
   "outputs": [],
   "source": [
    "# neural net visualization using graphviz api\n",
    "\n",
    "from graphviz import Digraph\n",
    "\n",
    "def trace(root):\n",
    "  # builds a set of all nodes and edges in a graph\n",
    "  nodes, edges = set(), set()\n",
    "  def build(v):\n",
    "    if v not in nodes:\n",
    "      nodes.add(v)\n",
    "      for child in v._prev:\n",
    "        edges.add((child, v))\n",
    "        build(child)\n",
    "  build(root)\n",
    "  return nodes, edges\n",
    "\n",
    "def draw_dot(root):\n",
    "  dot = Digraph(format='svg', graph_attr={'rankdir': 'LR'}) # LR = left to right\n",
    "  \n",
    "  nodes, edges = trace(root)\n",
    "  for n in nodes:\n",
    "    uid = str(id(n))\n",
    "    # for any value in the graph, create a rectangular ('record') node for it\n",
    "    dot.node(name = uid, label = \"{ %s | data %.4f | grad %.4f }\" % (n.label, n.data, n.grad), shape='record')\n",
    "    if n._op:\n",
    "      # if this value is a result of some operation, create an op node for it\n",
    "      dot.node(name = uid + n._op, label = n._op)\n",
    "      # and connect this node to it\n",
    "      dot.edge(uid + n._op, uid)\n",
    "\n",
    "  for n1, n2 in edges:\n",
    "    # connect n1 to the op node of n2\n",
    "    dot.edge(str(id(n1)), str(id(n2)) + n2._op)\n",
    "\n",
    "  return dot"
   ]
  },
  {
   "cell_type": "code",
   "execution_count": 10,
   "id": "0c555b41-2641-4842-a754-ce8d412cd057",
   "metadata": {},
   "outputs": [
    {
     "data": {
      "image/svg+xml": [
       "<?xml version=\"1.0\" encoding=\"UTF-8\" standalone=\"no\"?>\n",
       "<!DOCTYPE svg PUBLIC \"-//W3C//DTD SVG 1.1//EN\"\n",
       " \"http://www.w3.org/Graphics/SVG/1.1/DTD/svg11.dtd\">\n",
       "<!-- Generated by graphviz version 11.0.0 (20240428.1522)\n",
       " -->\n",
       "<!-- Pages: 1 -->\n",
       "<svg width=\"1140pt\" height=\"128pt\"\n",
       " viewBox=\"0.00 0.00 1139.75 128.00\" xmlns=\"http://www.w3.org/2000/svg\" xmlns:xlink=\"http://www.w3.org/1999/xlink\">\n",
       "<g id=\"graph0\" class=\"graph\" transform=\"scale(1 1) rotate(0) translate(4 124)\">\n",
       "<polygon fill=\"white\" stroke=\"none\" points=\"-4,4 -4,-124 1135.75,-124 1135.75,4 -4,4\"/>\n",
       "<!-- 4686868560 -->\n",
       "<g id=\"node1\" class=\"node\">\n",
       "<title>4686868560</title>\n",
       "<polygon fill=\"none\" stroke=\"black\" points=\"631.12,-27.5 631.12,-63.5 814.88,-63.5 814.88,-27.5 631.12,-27.5\"/>\n",
       "<text text-anchor=\"middle\" x=\"642.5\" y=\"-40.7\" font-family=\"Times,serif\" font-size=\"14.00\">d</text>\n",
       "<polyline fill=\"none\" stroke=\"black\" points=\"653.88,-28 653.88,-63.5\"/>\n",
       "<text text-anchor=\"middle\" x=\"693.75\" y=\"-40.7\" font-family=\"Times,serif\" font-size=\"14.00\">data 4.0000</text>\n",
       "<polyline fill=\"none\" stroke=\"black\" points=\"733.62,-28 733.62,-63.5\"/>\n",
       "<text text-anchor=\"middle\" x=\"774.25\" y=\"-40.7\" font-family=\"Times,serif\" font-size=\"14.00\">grad 0.0000</text>\n",
       "</g>\n",
       "<!-- 4686868848* -->\n",
       "<g id=\"node6\" class=\"node\">\n",
       "<title>4686868848*</title>\n",
       "<ellipse fill=\"none\" stroke=\"black\" cx=\"879\" cy=\"-72.5\" rx=\"27\" ry=\"18\"/>\n",
       "<text text-anchor=\"middle\" x=\"879\" y=\"-67.45\" font-family=\"Times,serif\" font-size=\"14.00\">*</text>\n",
       "</g>\n",
       "<!-- 4686868560&#45;&gt;4686868848* -->\n",
       "<g id=\"edge7\" class=\"edge\">\n",
       "<title>4686868560&#45;&gt;4686868848*</title>\n",
       "<path fill=\"none\" stroke=\"black\" d=\"M815.36,-61.52C824.5,-63.12 833.36,-64.67 841.4,-66.08\"/>\n",
       "<polygon fill=\"black\" stroke=\"black\" points=\"840.58,-69.49 851.04,-67.77 841.79,-62.6 840.58,-69.49\"/>\n",
       "</g>\n",
       "<!-- 4686868560+ -->\n",
       "<g id=\"node2\" class=\"node\">\n",
       "<title>4686868560+</title>\n",
       "<ellipse fill=\"none\" stroke=\"black\" cx=\"567\" cy=\"-45.5\" rx=\"27\" ry=\"18\"/>\n",
       "<text text-anchor=\"middle\" x=\"567\" y=\"-40.45\" font-family=\"Times,serif\" font-size=\"14.00\">+</text>\n",
       "</g>\n",
       "<!-- 4686868560+&#45;&gt;4686868560 -->\n",
       "<g id=\"edge1\" class=\"edge\">\n",
       "<title>4686868560+&#45;&gt;4686868560</title>\n",
       "<path fill=\"none\" stroke=\"black\" d=\"M594.47,-45.5C601.87,-45.5 610.38,-45.5 619.43,-45.5\"/>\n",
       "<polygon fill=\"black\" stroke=\"black\" points=\"619.17,-49 629.17,-45.5 619.17,-42 619.17,-49\"/>\n",
       "</g>\n",
       "<!-- 4686868704 -->\n",
       "<g id=\"node3\" class=\"node\">\n",
       "<title>4686868704</title>\n",
       "<polygon fill=\"none\" stroke=\"black\" points=\"630,-82.5 630,-118.5 816,-118.5 816,-82.5 630,-82.5\"/>\n",
       "<text text-anchor=\"middle\" x=\"640.25\" y=\"-95.7\" font-family=\"Times,serif\" font-size=\"14.00\">f</text>\n",
       "<polyline fill=\"none\" stroke=\"black\" points=\"650.5,-83 650.5,-118.5\"/>\n",
       "<text text-anchor=\"middle\" x=\"692.62\" y=\"-95.7\" font-family=\"Times,serif\" font-size=\"14.00\">data &#45;2.0000</text>\n",
       "<polyline fill=\"none\" stroke=\"black\" points=\"734.75,-83 734.75,-118.5\"/>\n",
       "<text text-anchor=\"middle\" x=\"775.38\" y=\"-95.7\" font-family=\"Times,serif\" font-size=\"14.00\">grad 0.0000</text>\n",
       "</g>\n",
       "<!-- 4686868704&#45;&gt;4686868848* -->\n",
       "<g id=\"edge5\" class=\"edge\">\n",
       "<title>4686868704&#45;&gt;4686868848*</title>\n",
       "<path fill=\"none\" stroke=\"black\" d=\"M816.25,-83.73C825.1,-82.12 833.67,-80.56 841.46,-79.14\"/>\n",
       "<polygon fill=\"black\" stroke=\"black\" points=\"841.93,-82.62 851.15,-77.38 840.68,-75.73 841.93,-82.62\"/>\n",
       "</g>\n",
       "<!-- 4686182880 -->\n",
       "<g id=\"node4\" class=\"node\">\n",
       "<title>4686182880</title>\n",
       "<polygon fill=\"none\" stroke=\"black\" points=\"0,-83.5 0,-119.5 188.25,-119.5 188.25,-83.5 0,-83.5\"/>\n",
       "<text text-anchor=\"middle\" x=\"11.38\" y=\"-96.7\" font-family=\"Times,serif\" font-size=\"14.00\">b</text>\n",
       "<polyline fill=\"none\" stroke=\"black\" points=\"22.75,-84 22.75,-119.5\"/>\n",
       "<text text-anchor=\"middle\" x=\"64.88\" y=\"-96.7\" font-family=\"Times,serif\" font-size=\"14.00\">data &#45;3.0000</text>\n",
       "<polyline fill=\"none\" stroke=\"black\" points=\"107,-84 107,-119.5\"/>\n",
       "<text text-anchor=\"middle\" x=\"147.62\" y=\"-96.7\" font-family=\"Times,serif\" font-size=\"14.00\">grad 0.0000</text>\n",
       "</g>\n",
       "<!-- 4686868416* -->\n",
       "<g id=\"node9\" class=\"node\">\n",
       "<title>4686868416*</title>\n",
       "<ellipse fill=\"none\" stroke=\"black\" cx=\"251.25\" cy=\"-73.5\" rx=\"27\" ry=\"18\"/>\n",
       "<text text-anchor=\"middle\" x=\"251.25\" y=\"-68.45\" font-family=\"Times,serif\" font-size=\"14.00\">*</text>\n",
       "</g>\n",
       "<!-- 4686182880&#45;&gt;4686868416* -->\n",
       "<g id=\"edge4\" class=\"edge\">\n",
       "<title>4686182880&#45;&gt;4686868416*</title>\n",
       "<path fill=\"none\" stroke=\"black\" d=\"M188.49,-84.65C197.36,-83.05 205.93,-81.5 213.73,-80.09\"/>\n",
       "<polygon fill=\"black\" stroke=\"black\" points=\"214.2,-83.56 223.42,-78.34 212.95,-76.68 214.2,-83.56\"/>\n",
       "</g>\n",
       "<!-- 4686868848 -->\n",
       "<g id=\"node5\" class=\"node\">\n",
       "<title>4686868848</title>\n",
       "<polygon fill=\"none\" stroke=\"black\" points=\"942,-54.5 942,-90.5 1131.75,-90.5 1131.75,-54.5 942,-54.5\"/>\n",
       "<text text-anchor=\"middle\" x=\"954.12\" y=\"-67.7\" font-family=\"Times,serif\" font-size=\"14.00\">L</text>\n",
       "<polyline fill=\"none\" stroke=\"black\" points=\"966.25,-55 966.25,-90.5\"/>\n",
       "<text text-anchor=\"middle\" x=\"1008.38\" y=\"-67.7\" font-family=\"Times,serif\" font-size=\"14.00\">data &#45;8.0000</text>\n",
       "<polyline fill=\"none\" stroke=\"black\" points=\"1050.5,-55 1050.5,-90.5\"/>\n",
       "<text text-anchor=\"middle\" x=\"1091.12\" y=\"-67.7\" font-family=\"Times,serif\" font-size=\"14.00\">grad 0.0000</text>\n",
       "</g>\n",
       "<!-- 4686868848*&#45;&gt;4686868848 -->\n",
       "<g id=\"edge2\" class=\"edge\">\n",
       "<title>4686868848*&#45;&gt;4686868848</title>\n",
       "<path fill=\"none\" stroke=\"black\" d=\"M906.44,-72.5C913.59,-72.5 921.78,-72.5 930.49,-72.5\"/>\n",
       "<polygon fill=\"black\" stroke=\"black\" points=\"930.26,-76 940.26,-72.5 930.26,-69 930.26,-76\"/>\n",
       "</g>\n",
       "<!-- 4686743984 -->\n",
       "<g id=\"node7\" class=\"node\">\n",
       "<title>4686743984</title>\n",
       "<polygon fill=\"none\" stroke=\"black\" points=\"2.62,-28.5 2.62,-64.5 185.62,-64.5 185.62,-28.5 2.62,-28.5\"/>\n",
       "<text text-anchor=\"middle\" x=\"13.62\" y=\"-41.7\" font-family=\"Times,serif\" font-size=\"14.00\">a</text>\n",
       "<polyline fill=\"none\" stroke=\"black\" points=\"24.62,-29 24.62,-64.5\"/>\n",
       "<text text-anchor=\"middle\" x=\"64.5\" y=\"-41.7\" font-family=\"Times,serif\" font-size=\"14.00\">data 2.0000</text>\n",
       "<polyline fill=\"none\" stroke=\"black\" points=\"104.38,-29 104.38,-64.5\"/>\n",
       "<text text-anchor=\"middle\" x=\"145\" y=\"-41.7\" font-family=\"Times,serif\" font-size=\"14.00\">grad 0.0000</text>\n",
       "</g>\n",
       "<!-- 4686743984&#45;&gt;4686868416* -->\n",
       "<g id=\"edge8\" class=\"edge\">\n",
       "<title>4686743984&#45;&gt;4686868416*</title>\n",
       "<path fill=\"none\" stroke=\"black\" d=\"M185.81,-62.28C195.45,-63.96 204.82,-65.59 213.29,-67.07\"/>\n",
       "<polygon fill=\"black\" stroke=\"black\" points=\"212.65,-70.51 223.1,-68.77 213.85,-63.61 212.65,-70.51\"/>\n",
       "</g>\n",
       "<!-- 4686868416 -->\n",
       "<g id=\"node8\" class=\"node\">\n",
       "<title>4686868416</title>\n",
       "<polygon fill=\"none\" stroke=\"black\" points=\"315.38,-55.5 315.38,-91.5 502.88,-91.5 502.88,-55.5 315.38,-55.5\"/>\n",
       "<text text-anchor=\"middle\" x=\"326.38\" y=\"-68.7\" font-family=\"Times,serif\" font-size=\"14.00\">e</text>\n",
       "<polyline fill=\"none\" stroke=\"black\" points=\"337.38,-56 337.38,-91.5\"/>\n",
       "<text text-anchor=\"middle\" x=\"379.5\" y=\"-68.7\" font-family=\"Times,serif\" font-size=\"14.00\">data &#45;6.0000</text>\n",
       "<polyline fill=\"none\" stroke=\"black\" points=\"421.62,-56 421.62,-91.5\"/>\n",
       "<text text-anchor=\"middle\" x=\"462.25\" y=\"-68.7\" font-family=\"Times,serif\" font-size=\"14.00\">grad 0.0000</text>\n",
       "</g>\n",
       "<!-- 4686868416&#45;&gt;4686868560+ -->\n",
       "<g id=\"edge9\" class=\"edge\">\n",
       "<title>4686868416&#45;&gt;4686868560+</title>\n",
       "<path fill=\"none\" stroke=\"black\" d=\"M503.05,-56.81C512.25,-55.16 521.16,-53.56 529.24,-52.1\"/>\n",
       "<polygon fill=\"black\" stroke=\"black\" points=\"529.71,-55.58 538.93,-50.36 528.47,-48.69 529.71,-55.58\"/>\n",
       "</g>\n",
       "<!-- 4686868416*&#45;&gt;4686868416 -->\n",
       "<g id=\"edge3\" class=\"edge\">\n",
       "<title>4686868416*&#45;&gt;4686868416</title>\n",
       "<path fill=\"none\" stroke=\"black\" d=\"M278.69,-73.5C286.1,-73.5 294.64,-73.5 303.71,-73.5\"/>\n",
       "<polygon fill=\"black\" stroke=\"black\" points=\"303.51,-77 313.51,-73.5 303.51,-70 303.51,-77\"/>\n",
       "</g>\n",
       "<!-- 4686867888 -->\n",
       "<g id=\"node10\" class=\"node\">\n",
       "<title>4686867888</title>\n",
       "<polygon fill=\"none\" stroke=\"black\" points=\"314.25,-0.5 314.25,-36.5 504,-36.5 504,-0.5 314.25,-0.5\"/>\n",
       "<text text-anchor=\"middle\" x=\"325.25\" y=\"-13.7\" font-family=\"Times,serif\" font-size=\"14.00\">c</text>\n",
       "<polyline fill=\"none\" stroke=\"black\" points=\"336.25,-1 336.25,-36.5\"/>\n",
       "<text text-anchor=\"middle\" x=\"379.5\" y=\"-13.7\" font-family=\"Times,serif\" font-size=\"14.00\">data 10.0000</text>\n",
       "<polyline fill=\"none\" stroke=\"black\" points=\"422.75,-1 422.75,-36.5\"/>\n",
       "<text text-anchor=\"middle\" x=\"463.38\" y=\"-13.7\" font-family=\"Times,serif\" font-size=\"14.00\">grad 0.0000</text>\n",
       "</g>\n",
       "<!-- 4686867888&#45;&gt;4686868560+ -->\n",
       "<g id=\"edge6\" class=\"edge\">\n",
       "<title>4686867888&#45;&gt;4686868560+</title>\n",
       "<path fill=\"none\" stroke=\"black\" d=\"M504.39,-34.83C513.16,-36.35 521.65,-37.82 529.37,-39.15\"/>\n",
       "<polygon fill=\"black\" stroke=\"black\" points=\"528.5,-42.56 538.95,-40.81 529.69,-35.66 528.5,-42.56\"/>\n",
       "</g>\n",
       "</g>\n",
       "</svg>\n"
      ],
      "text/plain": [
       "<graphviz.graphs.Digraph at 0x11754eff0>"
      ]
     },
     "execution_count": 10,
     "metadata": {},
     "output_type": "execute_result"
    }
   ],
   "source": [
    "draw_dot(L)"
   ]
  },
  {
   "cell_type": "code",
   "execution_count": 11,
   "id": "d9a03e29-5beb-4ba2-9742-a46a8048c51b",
   "metadata": {},
   "outputs": [],
   "source": [
    "L.grad = 1.0"
   ]
  },
  {
   "cell_type": "markdown",
   "id": "e1e92d28-5122-4571-b0a6-754c5041de9b",
   "metadata": {},
   "source": [
    "L = d * f\n",
    "\n",
    "dL/dd = f\n",
    "\n",
    "(f(x+h)-f(x))/h\n",
    "\n",
    "((d+h)*f - d*f)/h\n",
    "\n",
    "(d*f + h*f - d*f)/h\n",
    "\n",
    "(h*f)/h\n",
    "\n",
    "f"
   ]
  },
  {
   "cell_type": "code",
   "execution_count": null,
   "id": "c04da016-4b41-40a2-9cef-c2456db8b0b9",
   "metadata": {},
   "outputs": [],
   "source": [
    "f.grad = 4.0\n",
    "d. grad = -2.0"
   ]
  },
  {
   "cell_type": "markdown",
   "id": "4c74d42f-6753-44ae-aac6-d4cc82301e75",
   "metadata": {},
   "source": [
    "**Most important derivative in backprop**\n",
    "\n",
    "dL / dc\n",
    "\n",
    "d = c + e\n",
    "\n",
    "dd/dc = 1.0 (this is the local derivative - we need the final derivative)\n",
    "dd/de = 1.0\n",
    " \n",
    "Based on the chain rule, we can multiple dd/dc and dL/dd to get dL/dc:\n",
    "\n",
    "dd/dc * dL/dd = dL/dc\n",
    "1.0 * -2.0 = -2.0\n",
    "\n",
    "This shows that plus nodes just route the local gradient forward"
   ]
  },
  {
   "cell_type": "code",
   "execution_count": 15,
   "id": "a449944c-4cb2-47eb-9399-19cccc5485f5",
   "metadata": {},
   "outputs": [],
   "source": [
    "c.grad = -2.0\n",
    "e.grad = -2.0"
   ]
  },
  {
   "cell_type": "markdown",
   "id": "a8779b14-b0a4-432c-94d6-f3d7ece5267f",
   "metadata": {},
   "source": [
    "dL/de = -2.0\n",
    "\n",
    "e = a * b\n",
    "de/da = b\n",
    "de/db = a\n",
    "\n",
    "dL/da = (dL/de) * (de/da)"
   ]
  },
  {
   "cell_type": "code",
   "execution_count": 17,
   "id": "579332cb-c502-48ee-85d9-07e152a9165d",
   "metadata": {},
   "outputs": [],
   "source": [
    "a.grad=(-2.0 * -3.0)\n",
    "b.grad = (-2.0 * 2.0)"
   ]
  },
  {
   "cell_type": "code",
   "execution_count": 19,
   "id": "b6aada89-17f7-4d6e-81ec-37bedb0f956c",
   "metadata": {},
   "outputs": [
    {
     "name": "stdout",
     "output_type": "stream",
     "text": [
      "-7.286496\n"
     ]
    }
   ],
   "source": [
    "# Trying to increase L\n",
    "\n",
    "a.data += 0.01 * a.grad\n",
    "b.data += 0.01 * b.grad\n",
    "c.data += 0.01 * c.grad\n",
    "f.data += 0.01 * f.grad\n",
    "\n",
    "e = a * b\n",
    "d = e + c\n",
    "L = d * f\n",
    "\n",
    "print(L.data)"
   ]
  },
  {
   "cell_type": "markdown",
   "id": "c11dca54-3f66-404b-89c0-394ce9a5f715",
   "metadata": {},
   "source": [
    "### Summary\n",
    "\n",
    "Backpropogation is just the recursive multiplication of local derivatives."
   ]
  },
  {
   "cell_type": "markdown",
   "id": "02f80200-8fad-4d0f-8b06-f5edd407b92d",
   "metadata": {},
   "source": [
    "### 3. Backpropogation through a neuron"
   ]
  },
  {
   "cell_type": "code",
   "execution_count": 21,
   "id": "e85cb89e-b129-45c4-ac5e-51c07f6ff140",
   "metadata": {},
   "outputs": [
    {
     "data": {
      "image/png": "[encoded data removed]",
      "text/plain": [
       "<Figure size 640x480 with 1 Axes>"
      ]
     },
     "metadata": {},
     "output_type": "display_data"
    }
   ],
   "source": [
    "plt.plot(np.arange(-5,5,0.2), np.tanh(np.arange(-5,5,0.2))); plt.grid();"
   ]
  },
  {
   "cell_type": "code",
   "execution_count": 7,
   "id": "18e0f7ed-471b-4d89-ad31-cbf474eb6cda",
   "metadata": {},
   "outputs": [],
   "source": [
    "# inputs x1 and x2\n",
    "x1 = Value(2.0, label='x1')\n",
    "x2 = Value(0.0, label='x2')\n",
    "\n",
    "# weights w1 and w2\n",
    "w1 = Value(-3.0, label='w1')\n",
    "w2 = Value(1.0, label='w2')\n",
    "\n",
    "# bias of the neuron\n",
    "b = Value(6.8813735870195432, label='b')\n",
    "\n",
    "# x1*w1 + x2*w2 + b\n",
    "x1w1 = x1*w1; x1w1.label = 'x1w1'\n",
    "x2w2 = x2*w2; x2w2.label = 'x2w2'\n",
    "x1w1x2w2 = x1*w1 + x2w2; x1w1x2w2.label = 'x1w1 + x2w2'\n",
    "n = x1w1x2w2 + b; n.label='n'\n",
    "o = n.tanh(); o.label='o'\n",
    "n.backward()"
   ]
  },
  {
   "cell_type": "code",
   "execution_count": 9,
   "id": "797ddf72-6f76-49c1-8f7e-0c7f893c7cd1",
   "metadata": {},
   "outputs": [
    {
     "data": {
      "image/svg+xml": [
       "<?xml version=\"1.0\" encoding=\"UTF-8\" standalone=\"no\"?>\n",
       "<!DOCTYPE svg PUBLIC \"-//W3C//DTD SVG 1.1//EN\"\n",
       " \"http://www.w3.org/Graphics/SVG/1.1/DTD/svg11.dtd\">\n",
       "<!-- Generated by graphviz version 11.0.0 (20240428.1522)\n",
       " -->\n",
       "<!-- Pages: 1 -->\n",
       "<svg width=\"1542pt\" height=\"210pt\"\n",
       " viewBox=\"0.00 0.00 1541.75 210.00\" xmlns=\"http://www.w3.org/2000/svg\" xmlns:xlink=\"http://www.w3.org/1999/xlink\">\n",
       "<g id=\"graph0\" class=\"graph\" transform=\"scale(1 1) rotate(0) translate(4 206)\">\n",
       "<polygon fill=\"white\" stroke=\"none\" points=\"-4,4 -4,-206 1537.75,-206 1537.75,4 -4,4\"/>\n",
       "<!-- 4400823808 -->\n",
       "<g id=\"node1\" class=\"node\">\n",
       "<title>4400823808</title>\n",
       "<polygon fill=\"none\" stroke=\"black\" points=\"1.5,-165.5 1.5,-201.5 196.5,-201.5 196.5,-165.5 1.5,-165.5\"/>\n",
       "<text text-anchor=\"middle\" x=\"16.25\" y=\"-178.7\" font-family=\"Times,serif\" font-size=\"14.00\">x1</text>\n",
       "<polyline fill=\"none\" stroke=\"black\" points=\"31,-166 31,-201.5\"/>\n",
       "<text text-anchor=\"middle\" x=\"70.88\" y=\"-178.7\" font-family=\"Times,serif\" font-size=\"14.00\">data 2.0000</text>\n",
       "<polyline fill=\"none\" stroke=\"black\" points=\"110.75,-166 110.75,-201.5\"/>\n",
       "<text text-anchor=\"middle\" x=\"153.62\" y=\"-178.7\" font-family=\"Times,serif\" font-size=\"14.00\">grad &#45;1.5000</text>\n",
       "</g>\n",
       "<!-- 4701252752* -->\n",
       "<g id=\"node3\" class=\"node\">\n",
       "<title>4701252752*</title>\n",
       "<ellipse fill=\"none\" stroke=\"black\" cx=\"261\" cy=\"-128.5\" rx=\"27\" ry=\"18\"/>\n",
       "<text text-anchor=\"middle\" x=\"261\" y=\"-123.45\" font-family=\"Times,serif\" font-size=\"14.00\">*</text>\n",
       "</g>\n",
       "<!-- 4400823808&#45;&gt;4701252752* -->\n",
       "<g id=\"edge9\" class=\"edge\">\n",
       "<title>4400823808&#45;&gt;4701252752*</title>\n",
       "<path fill=\"none\" stroke=\"black\" d=\"M172.12,-165.01C180.9,-162.35 189.7,-159.5 198,-156.5 208.09,-152.86 218.82,-148.27 228.47,-143.88\"/>\n",
       "<polygon fill=\"black\" stroke=\"black\" points=\"229.86,-147.09 237.45,-139.69 226.9,-140.75 229.86,-147.09\"/>\n",
       "</g>\n",
       "<!-- 4701252752 -->\n",
       "<g id=\"node2\" class=\"node\">\n",
       "<title>4701252752</title>\n",
       "<polygon fill=\"none\" stroke=\"black\" points=\"334.88,-110.5 334.88,-146.5 520.12,-146.5 520.12,-110.5 334.88,-110.5\"/>\n",
       "<text text-anchor=\"middle\" x=\"344.75\" y=\"-123.7\" font-family=\"Times,serif\" font-size=\"14.00\"> </text>\n",
       "<polyline fill=\"none\" stroke=\"black\" points=\"354.62,-111 354.62,-146.5\"/>\n",
       "<text text-anchor=\"middle\" x=\"396.75\" y=\"-123.7\" font-family=\"Times,serif\" font-size=\"14.00\">data &#45;6.0000</text>\n",
       "<polyline fill=\"none\" stroke=\"black\" points=\"438.88,-111 438.88,-146.5\"/>\n",
       "<text text-anchor=\"middle\" x=\"479.5\" y=\"-123.7\" font-family=\"Times,serif\" font-size=\"14.00\">grad 0.5000</text>\n",
       "</g>\n",
       "<!-- 4701252944+ -->\n",
       "<g id=\"node11\" class=\"node\">\n",
       "<title>4701252944+</title>\n",
       "<ellipse fill=\"none\" stroke=\"black\" cx=\"594\" cy=\"-100.5\" rx=\"27\" ry=\"18\"/>\n",
       "<text text-anchor=\"middle\" x=\"594\" y=\"-95.45\" font-family=\"Times,serif\" font-size=\"14.00\">+</text>\n",
       "</g>\n",
       "<!-- 4701252752&#45;&gt;4701252944+ -->\n",
       "<g id=\"edge12\" class=\"edge\">\n",
       "<title>4701252752&#45;&gt;4701252944+</title>\n",
       "<path fill=\"none\" stroke=\"black\" d=\"M520.37,-112.86C533.12,-110.69 545.57,-108.57 556.45,-106.72\"/>\n",
       "<polygon fill=\"black\" stroke=\"black\" points=\"556.82,-110.21 566.09,-105.08 555.64,-103.31 556.82,-110.21\"/>\n",
       "</g>\n",
       "<!-- 4701252752*&#45;&gt;4701252752 -->\n",
       "<g id=\"edge1\" class=\"edge\">\n",
       "<title>4701252752*&#45;&gt;4701252752</title>\n",
       "<path fill=\"none\" stroke=\"black\" d=\"M288.43,-128.5C298.4,-128.5 310.45,-128.5 323.23,-128.5\"/>\n",
       "<polygon fill=\"black\" stroke=\"black\" points=\"323.09,-132 333.09,-128.5 323.09,-125 323.09,-132\"/>\n",
       "</g>\n",
       "<!-- 4701253376 -->\n",
       "<g id=\"node4\" class=\"node\">\n",
       "<title>4701253376</title>\n",
       "<polygon fill=\"none\" stroke=\"black\" points=\"1350,-54.5 1350,-90.5 1533.75,-90.5 1533.75,-54.5 1350,-54.5\"/>\n",
       "<text text-anchor=\"middle\" x=\"1361.38\" y=\"-67.7\" font-family=\"Times,serif\" font-size=\"14.00\">o</text>\n",
       "<polyline fill=\"none\" stroke=\"black\" points=\"1372.75,-55 1372.75,-90.5\"/>\n",
       "<text text-anchor=\"middle\" x=\"1412.62\" y=\"-67.7\" font-family=\"Times,serif\" font-size=\"14.00\">data 0.7071</text>\n",
       "<polyline fill=\"none\" stroke=\"black\" points=\"1452.5,-55 1452.5,-90.5\"/>\n",
       "<text text-anchor=\"middle\" x=\"1493.12\" y=\"-67.7\" font-family=\"Times,serif\" font-size=\"14.00\">grad 1.0000</text>\n",
       "</g>\n",
       "<!-- 4701253376tanh -->\n",
       "<g id=\"node5\" class=\"node\">\n",
       "<title>4701253376tanh</title>\n",
       "<ellipse fill=\"none\" stroke=\"black\" cx=\"1287\" cy=\"-72.5\" rx=\"27\" ry=\"18\"/>\n",
       "<text text-anchor=\"middle\" x=\"1287\" y=\"-67.45\" font-family=\"Times,serif\" font-size=\"14.00\">tanh</text>\n",
       "</g>\n",
       "<!-- 4701253376tanh&#45;&gt;4701253376 -->\n",
       "<g id=\"edge2\" class=\"edge\">\n",
       "<title>4701253376tanh&#45;&gt;4701253376</title>\n",
       "<path fill=\"none\" stroke=\"black\" d=\"M1314.28,-72.5C1321.42,-72.5 1329.61,-72.5 1338.32,-72.5\"/>\n",
       "<polygon fill=\"black\" stroke=\"black\" points=\"1338.06,-76 1348.06,-72.5 1338.06,-69 1338.06,-76\"/>\n",
       "</g>\n",
       "<!-- 4701252368 -->\n",
       "<g id=\"node6\" class=\"node\">\n",
       "<title>4701252368</title>\n",
       "<polygon fill=\"none\" stroke=\"black\" points=\"324,-55.5 324,-91.5 531,-91.5 531,-55.5 324,-55.5\"/>\n",
       "<text text-anchor=\"middle\" x=\"347\" y=\"-68.7\" font-family=\"Times,serif\" font-size=\"14.00\">x2w2</text>\n",
       "<polyline fill=\"none\" stroke=\"black\" points=\"370,-56 370,-91.5\"/>\n",
       "<text text-anchor=\"middle\" x=\"409.88\" y=\"-68.7\" font-family=\"Times,serif\" font-size=\"14.00\">data 0.0000</text>\n",
       "<polyline fill=\"none\" stroke=\"black\" points=\"449.75,-56 449.75,-91.5\"/>\n",
       "<text text-anchor=\"middle\" x=\"490.38\" y=\"-68.7\" font-family=\"Times,serif\" font-size=\"14.00\">grad 0.5000</text>\n",
       "</g>\n",
       "<!-- 4701252368&#45;&gt;4701252944+ -->\n",
       "<g id=\"edge11\" class=\"edge\">\n",
       "<title>4701252368&#45;&gt;4701252944+</title>\n",
       "<path fill=\"none\" stroke=\"black\" d=\"M531.28,-90.37C539.97,-91.8 548.34,-93.17 555.96,-94.42\"/>\n",
       "<polygon fill=\"black\" stroke=\"black\" points=\"555.32,-97.86 565.76,-96.03 556.45,-90.95 555.32,-97.86\"/>\n",
       "</g>\n",
       "<!-- 4701252368* -->\n",
       "<g id=\"node7\" class=\"node\">\n",
       "<title>4701252368*</title>\n",
       "<ellipse fill=\"none\" stroke=\"black\" cx=\"261\" cy=\"-73.5\" rx=\"27\" ry=\"18\"/>\n",
       "<text text-anchor=\"middle\" x=\"261\" y=\"-68.45\" font-family=\"Times,serif\" font-size=\"14.00\">*</text>\n",
       "</g>\n",
       "<!-- 4701252368*&#45;&gt;4701252368 -->\n",
       "<g id=\"edge3\" class=\"edge\">\n",
       "<title>4701252368*&#45;&gt;4701252368</title>\n",
       "<path fill=\"none\" stroke=\"black\" d=\"M288.43,-73.5C295.52,-73.5 303.65,-73.5 312.35,-73.5\"/>\n",
       "<polygon fill=\"black\" stroke=\"black\" points=\"312.12,-77 322.12,-73.5 312.12,-70 312.12,-77\"/>\n",
       "</g>\n",
       "<!-- 4701251888 -->\n",
       "<g id=\"node8\" class=\"node\">\n",
       "<title>4701251888</title>\n",
       "<polygon fill=\"none\" stroke=\"black\" points=\"0,-110.5 0,-146.5 198,-146.5 198,-110.5 0,-110.5\"/>\n",
       "<text text-anchor=\"middle\" x=\"16.25\" y=\"-123.7\" font-family=\"Times,serif\" font-size=\"14.00\">w1</text>\n",
       "<polyline fill=\"none\" stroke=\"black\" points=\"32.5,-111 32.5,-146.5\"/>\n",
       "<text text-anchor=\"middle\" x=\"74.62\" y=\"-123.7\" font-family=\"Times,serif\" font-size=\"14.00\">data &#45;3.0000</text>\n",
       "<polyline fill=\"none\" stroke=\"black\" points=\"116.75,-111 116.75,-146.5\"/>\n",
       "<text text-anchor=\"middle\" x=\"157.38\" y=\"-123.7\" font-family=\"Times,serif\" font-size=\"14.00\">grad 1.0000</text>\n",
       "</g>\n",
       "<!-- 4701251888&#45;&gt;4701252752* -->\n",
       "<g id=\"edge7\" class=\"edge\">\n",
       "<title>4701251888&#45;&gt;4701252752*</title>\n",
       "<path fill=\"none\" stroke=\"black\" d=\"M198.14,-128.5C206.61,-128.5 214.8,-128.5 222.29,-128.5\"/>\n",
       "<polygon fill=\"black\" stroke=\"black\" points=\"222.29,-132 232.29,-128.5 222.29,-125 222.29,-132\"/>\n",
       "</g>\n",
       "<!-- 4436095296 -->\n",
       "<g id=\"node9\" class=\"node\">\n",
       "<title>4436095296</title>\n",
       "<polygon fill=\"none\" stroke=\"black\" points=\"3.75,-55.5 3.75,-91.5 194.25,-91.5 194.25,-55.5 3.75,-55.5\"/>\n",
       "<text text-anchor=\"middle\" x=\"18.5\" y=\"-68.7\" font-family=\"Times,serif\" font-size=\"14.00\">x2</text>\n",
       "<polyline fill=\"none\" stroke=\"black\" points=\"33.25,-56 33.25,-91.5\"/>\n",
       "<text text-anchor=\"middle\" x=\"73.12\" y=\"-68.7\" font-family=\"Times,serif\" font-size=\"14.00\">data 0.0000</text>\n",
       "<polyline fill=\"none\" stroke=\"black\" points=\"113,-56 113,-91.5\"/>\n",
       "<text text-anchor=\"middle\" x=\"153.62\" y=\"-68.7\" font-family=\"Times,serif\" font-size=\"14.00\">grad 0.5000</text>\n",
       "</g>\n",
       "<!-- 4436095296&#45;&gt;4701252368* -->\n",
       "<g id=\"edge14\" class=\"edge\">\n",
       "<title>4436095296&#45;&gt;4701252368*</title>\n",
       "<path fill=\"none\" stroke=\"black\" d=\"M194.46,-73.5C204.21,-73.5 213.66,-73.5 222.21,-73.5\"/>\n",
       "<polygon fill=\"black\" stroke=\"black\" points=\"222.12,-77 232.12,-73.5 222.12,-70 222.12,-77\"/>\n",
       "</g>\n",
       "<!-- 4701252944 -->\n",
       "<g id=\"node10\" class=\"node\">\n",
       "<title>4701252944</title>\n",
       "<polygon fill=\"none\" stroke=\"black\" points=\"657,-82.5 657,-118.5 914.25,-118.5 914.25,-82.5 657,-82.5\"/>\n",
       "<text text-anchor=\"middle\" x=\"702.88\" y=\"-95.7\" font-family=\"Times,serif\" font-size=\"14.00\">x1w1 + x2w2</text>\n",
       "<polyline fill=\"none\" stroke=\"black\" points=\"748.75,-83 748.75,-118.5\"/>\n",
       "<text text-anchor=\"middle\" x=\"790.88\" y=\"-95.7\" font-family=\"Times,serif\" font-size=\"14.00\">data &#45;6.0000</text>\n",
       "<polyline fill=\"none\" stroke=\"black\" points=\"833,-83 833,-118.5\"/>\n",
       "<text text-anchor=\"middle\" x=\"873.62\" y=\"-95.7\" font-family=\"Times,serif\" font-size=\"14.00\">grad 0.5000</text>\n",
       "</g>\n",
       "<!-- 4701253088+ -->\n",
       "<g id=\"node15\" class=\"node\">\n",
       "<title>4701253088+</title>\n",
       "<ellipse fill=\"none\" stroke=\"black\" cx=\"977.25\" cy=\"-72.5\" rx=\"27\" ry=\"18\"/>\n",
       "<text text-anchor=\"middle\" x=\"977.25\" y=\"-67.45\" font-family=\"Times,serif\" font-size=\"14.00\">+</text>\n",
       "</g>\n",
       "<!-- 4701252944&#45;&gt;4701253088+ -->\n",
       "<g id=\"edge6\" class=\"edge\">\n",
       "<title>4701252944&#45;&gt;4701253088+</title>\n",
       "<path fill=\"none\" stroke=\"black\" d=\"M911.79,-82.02C921.65,-80.56 931.03,-79.18 939.42,-77.94\"/>\n",
       "<polygon fill=\"black\" stroke=\"black\" points=\"939.69,-81.44 949.08,-76.51 938.67,-74.51 939.69,-81.44\"/>\n",
       "</g>\n",
       "<!-- 4701252944+&#45;&gt;4701252944 -->\n",
       "<g id=\"edge4\" class=\"edge\">\n",
       "<title>4701252944+&#45;&gt;4701252944</title>\n",
       "<path fill=\"none\" stroke=\"black\" d=\"M621.37,-100.5C628.38,-100.5 636.46,-100.5 645.2,-100.5\"/>\n",
       "<polygon fill=\"black\" stroke=\"black\" points=\"645.07,-104 655.07,-100.5 645.07,-97 645.07,-104\"/>\n",
       "</g>\n",
       "<!-- 4701251984 -->\n",
       "<g id=\"node12\" class=\"node\">\n",
       "<title>4701251984</title>\n",
       "<polygon fill=\"none\" stroke=\"black\" points=\"2.25,-0.5 2.25,-36.5 195.75,-36.5 195.75,-0.5 2.25,-0.5\"/>\n",
       "<text text-anchor=\"middle\" x=\"18.5\" y=\"-13.7\" font-family=\"Times,serif\" font-size=\"14.00\">w2</text>\n",
       "<polyline fill=\"none\" stroke=\"black\" points=\"34.75,-1 34.75,-36.5\"/>\n",
       "<text text-anchor=\"middle\" x=\"74.62\" y=\"-13.7\" font-family=\"Times,serif\" font-size=\"14.00\">data 1.0000</text>\n",
       "<polyline fill=\"none\" stroke=\"black\" points=\"114.5,-1 114.5,-36.5\"/>\n",
       "<text text-anchor=\"middle\" x=\"155.12\" y=\"-13.7\" font-family=\"Times,serif\" font-size=\"14.00\">grad 0.0000</text>\n",
       "</g>\n",
       "<!-- 4701251984&#45;&gt;4701252368* -->\n",
       "<g id=\"edge10\" class=\"edge\">\n",
       "<title>4701251984&#45;&gt;4701252368*</title>\n",
       "<path fill=\"none\" stroke=\"black\" d=\"M172.12,-36.99C180.9,-39.65 189.7,-42.5 198,-45.5 208.09,-49.14 218.82,-53.73 228.47,-58.12\"/>\n",
       "<polygon fill=\"black\" stroke=\"black\" points=\"226.9,-61.25 237.45,-62.31 229.86,-54.91 226.9,-61.25\"/>\n",
       "</g>\n",
       "<!-- 4701252032 -->\n",
       "<g id=\"node13\" class=\"node\">\n",
       "<title>4701252032</title>\n",
       "<polygon fill=\"none\" stroke=\"black\" points=\"693.75,-27.5 693.75,-63.5 877.5,-63.5 877.5,-27.5 693.75,-27.5\"/>\n",
       "<text text-anchor=\"middle\" x=\"705.12\" y=\"-40.7\" font-family=\"Times,serif\" font-size=\"14.00\">b</text>\n",
       "<polyline fill=\"none\" stroke=\"black\" points=\"716.5,-28 716.5,-63.5\"/>\n",
       "<text text-anchor=\"middle\" x=\"756.38\" y=\"-40.7\" font-family=\"Times,serif\" font-size=\"14.00\">data 6.8814</text>\n",
       "<polyline fill=\"none\" stroke=\"black\" points=\"796.25,-28 796.25,-63.5\"/>\n",
       "<text text-anchor=\"middle\" x=\"836.88\" y=\"-40.7\" font-family=\"Times,serif\" font-size=\"14.00\">grad 0.5000</text>\n",
       "</g>\n",
       "<!-- 4701252032&#45;&gt;4701253088+ -->\n",
       "<g id=\"edge13\" class=\"edge\">\n",
       "<title>4701252032&#45;&gt;4701253088+</title>\n",
       "<path fill=\"none\" stroke=\"black\" d=\"M877.83,-58.49C899.67,-61.6 921.77,-64.74 939.48,-67.26\"/>\n",
       "<polygon fill=\"black\" stroke=\"black\" points=\"938.82,-70.71 949.21,-68.65 939.8,-63.78 938.82,-70.71\"/>\n",
       "</g>\n",
       "<!-- 4701253088 -->\n",
       "<g id=\"node14\" class=\"node\">\n",
       "<title>4701253088</title>\n",
       "<polygon fill=\"none\" stroke=\"black\" points=\"1040.25,-54.5 1040.25,-90.5 1224,-90.5 1224,-54.5 1040.25,-54.5\"/>\n",
       "<text text-anchor=\"middle\" x=\"1051.62\" y=\"-67.7\" font-family=\"Times,serif\" font-size=\"14.00\">n</text>\n",
       "<polyline fill=\"none\" stroke=\"black\" points=\"1063,-55 1063,-90.5\"/>\n",
       "<text text-anchor=\"middle\" x=\"1102.88\" y=\"-67.7\" font-family=\"Times,serif\" font-size=\"14.00\">data 0.8814</text>\n",
       "<polyline fill=\"none\" stroke=\"black\" points=\"1142.75,-55 1142.75,-90.5\"/>\n",
       "<text text-anchor=\"middle\" x=\"1183.38\" y=\"-67.7\" font-family=\"Times,serif\" font-size=\"14.00\">grad 0.5000</text>\n",
       "</g>\n",
       "<!-- 4701253088&#45;&gt;4701253376tanh -->\n",
       "<g id=\"edge8\" class=\"edge\">\n",
       "<title>4701253088&#45;&gt;4701253376tanh</title>\n",
       "<path fill=\"none\" stroke=\"black\" d=\"M1224.26,-72.5C1232.64,-72.5 1240.77,-72.5 1248.23,-72.5\"/>\n",
       "<polygon fill=\"black\" stroke=\"black\" points=\"1248.2,-76 1258.2,-72.5 1248.2,-69 1248.2,-76\"/>\n",
       "</g>\n",
       "<!-- 4701253088+&#45;&gt;4701253088 -->\n",
       "<g id=\"edge5\" class=\"edge\">\n",
       "<title>4701253088+&#45;&gt;4701253088</title>\n",
       "<path fill=\"none\" stroke=\"black\" d=\"M1004.53,-72.5C1011.67,-72.5 1019.86,-72.5 1028.57,-72.5\"/>\n",
       "<polygon fill=\"black\" stroke=\"black\" points=\"1028.31,-76 1038.31,-72.5 1028.31,-69 1028.31,-76\"/>\n",
       "</g>\n",
       "</g>\n",
       "</svg>\n"
      ],
      "text/plain": [
       "<graphviz.graphs.Digraph at 0x118377860>"
      ]
     },
     "execution_count": 9,
     "metadata": {},
     "output_type": "execute_result"
    }
   ],
   "source": [
    "draw_dot(o)"
   ]
  },
  {
   "cell_type": "markdown",
   "id": "c5c3b66b-4e7a-4f9c-8b3b-ef88928b7fa2",
   "metadata": {},
   "source": [
    "#### Implementing another formula for tanh"
   ]
  },
  {
   "cell_type": "code",
   "execution_count": 92,
   "id": "a90688e4-a588-40c0-99e8-1ba01342ef16",
   "metadata": {},
   "outputs": [],
   "source": [
    "# inputs x1 and x2\n",
    "x1 = Value(2.0, label='x1')\n",
    "x2 = Value(0.0, label='x2')\n",
    "\n",
    "# weights w1 and w2\n",
    "w1 = Value(-3.0, label='w1')\n",
    "w2 = Value(1.0, label='w2')\n",
    "\n",
    "# bias of the neuron\n",
    "b = Value(6.8813735870195432, label='b')\n",
    "\n",
    "# x1*w1 + x2*w2 + b\n",
    "x1w1 = x1*w1; x1w1.label = 'x1w1'\n",
    "x2w2 = x2*w2; x2w2.label = 'x2w2'\n",
    "x1w1x2w2 = x1*w1 + x2w2; x1w1x2w2.label = 'x1w1 + x2w2'\n",
    "n = x1w1x2w2 + b; n.label='n'\n",
    "# ----\n",
    "e = (2*n).exp()\n",
    "o = (e - 1) / (e + 1)\n",
    "# ----\n",
    "o.label='o'\n",
    "o.backward()"
   ]
  },
  {
   "cell_type": "code",
   "execution_count": null,
   "id": "d5d623c7-26ec-4d33-9bed-51597a066019",
   "metadata": {},
   "outputs": [],
   "source": [
    "draw_dot(o)"
   ]
  },
  {
   "cell_type": "code",
   "execution_count": 24,
   "id": "06504f93-9b83-4fd9-98f7-973bcbc74df4",
   "metadata": {},
   "outputs": [],
   "source": [
    "o.grad = 1.0"
   ]
  },
  {
   "cell_type": "markdown",
   "id": "c463d439-4787-4e93-8803-0d65ce6aae2b",
   "metadata": {},
   "source": [
    "o = tanh(n)\n",
    "\n",
    "do/dn = 1 - tanh(n)**2 = 1 - o\\**2"
   ]
  },
  {
   "cell_type": "code",
   "execution_count": 25,
   "id": "226b10a3-8249-4f45-9808-b1df9ad259b3",
   "metadata": {
    "scrolled": true
   },
   "outputs": [
    {
     "data": {
      "text/plain": [
       "0.4999999999999999"
      ]
     },
     "execution_count": 25,
     "metadata": {},
     "output_type": "execute_result"
    }
   ],
   "source": [
    "1 - o.data**2"
   ]
  },
  {
   "cell_type": "code",
   "execution_count": 26,
   "id": "f8166784-a157-45e3-8050-d12f45f6b0cc",
   "metadata": {},
   "outputs": [],
   "source": [
    "n.grad = 0.5"
   ]
  },
  {
   "cell_type": "markdown",
   "id": "6c6b324e-eaaf-49fd-8e90-aae6883bb12b",
   "metadata": {},
   "source": [
    "The gradient of n will flow all the down to x1w1 and x2w2, since it's all plus operations"
   ]
  },
  {
   "cell_type": "code",
   "execution_count": 28,
   "id": "6b5ccc3d-0d9b-481f-b13f-5d17bb95330e",
   "metadata": {},
   "outputs": [],
   "source": [
    "x1w1.grad = 0.5\n",
    "x2w2.grad = 0.5\n",
    "x2.grad  = w2.data * x2w2.grad\n",
    "w2.grad = x2.data * x2w2.grad\n",
    "x1.grad = w1.data * x1w1.grad\n",
    "w1.grad = x1.data * x1w1.grad"
   ]
  },
  {
   "cell_type": "markdown",
   "id": "7f25c033-12a3-4fa8-9318-f53b7f0b3c30",
   "metadata": {},
   "source": [
    "**Redoing backprop with the backward() function**"
   ]
  },
  {
   "cell_type": "code",
   "execution_count": 35,
   "id": "74cfb814-85fe-4a19-a57d-4eef8f9b11d9",
   "metadata": {},
   "outputs": [],
   "source": [
    "o.grad = 1.0 # setting this to 1 because out.grad is initialized as 0, and self.grad here is (1 - t**2) * out.grad, which would just be 0 if we dont change it\n",
    "o._backward()\n",
    "n._backward()\n",
    "b._backward() # nothing would happen since b is a leaf node\n",
    "x1w1x2w2._backward()\n",
    "x2w2._backward()\n",
    "x1w1._backward()"
   ]
  },
  {
   "cell_type": "code",
   "execution_count": 34,
   "id": "c7e7eb76-813f-4abb-a945-eb7a90f08758",
   "metadata": {},
   "outputs": [
    {
     "data": {
      "image/svg+xml": [
       "<?xml version=\"1.0\" encoding=\"UTF-8\" standalone=\"no\"?>\n",
       "<!DOCTYPE svg PUBLIC \"-//W3C//DTD SVG 1.1//EN\"\n",
       " \"http://www.w3.org/Graphics/SVG/1.1/DTD/svg11.dtd\">\n",
       "<!-- Generated by graphviz version 11.0.0 (20240428.1522)\n",
       " -->\n",
       "<!-- Pages: 1 -->\n",
       "<svg width=\"1542pt\" height=\"210pt\"\n",
       " viewBox=\"0.00 0.00 1541.75 210.00\" xmlns=\"http://www.w3.org/2000/svg\" xmlns:xlink=\"http://www.w3.org/1999/xlink\">\n",
       "<g id=\"graph0\" class=\"graph\" transform=\"scale(1 1) rotate(0) translate(4 206)\">\n",
       "<polygon fill=\"white\" stroke=\"none\" points=\"-4,4 -4,-206 1537.75,-206 1537.75,4 -4,4\"/>\n",
       "<!-- 4687471792 -->\n",
       "<g id=\"node1\" class=\"node\">\n",
       "<title>4687471792</title>\n",
       "<polygon fill=\"none\" stroke=\"black\" points=\"0,-165.5 0,-201.5 198,-201.5 198,-165.5 0,-165.5\"/>\n",
       "<text text-anchor=\"middle\" x=\"16.25\" y=\"-178.7\" font-family=\"Times,serif\" font-size=\"14.00\">w1</text>\n",
       "<polyline fill=\"none\" stroke=\"black\" points=\"32.5,-166 32.5,-201.5\"/>\n",
       "<text text-anchor=\"middle\" x=\"74.62\" y=\"-178.7\" font-family=\"Times,serif\" font-size=\"14.00\">data &#45;3.0000</text>\n",
       "<polyline fill=\"none\" stroke=\"black\" points=\"116.75,-166 116.75,-201.5\"/>\n",
       "<text text-anchor=\"middle\" x=\"157.38\" y=\"-178.7\" font-family=\"Times,serif\" font-size=\"14.00\">grad 1.0000</text>\n",
       "</g>\n",
       "<!-- 4687719760* -->\n",
       "<g id=\"node4\" class=\"node\">\n",
       "<title>4687719760*</title>\n",
       "<ellipse fill=\"none\" stroke=\"black\" cx=\"261\" cy=\"-128.5\" rx=\"27\" ry=\"18\"/>\n",
       "<text text-anchor=\"middle\" x=\"261\" y=\"-123.45\" font-family=\"Times,serif\" font-size=\"14.00\">*</text>\n",
       "</g>\n",
       "<!-- 4687471792&#45;&gt;4687719760* -->\n",
       "<g id=\"edge13\" class=\"edge\">\n",
       "<title>4687471792&#45;&gt;4687719760*</title>\n",
       "<path fill=\"none\" stroke=\"black\" d=\"M172.12,-165.01C180.9,-162.35 189.7,-159.5 198,-156.5 208.09,-152.86 218.82,-148.27 228.47,-143.88\"/>\n",
       "<polygon fill=\"black\" stroke=\"black\" points=\"229.86,-147.09 237.45,-139.69 226.9,-140.75 229.86,-147.09\"/>\n",
       "</g>\n",
       "<!-- 4687780544 -->\n",
       "<g id=\"node2\" class=\"node\">\n",
       "<title>4687780544</title>\n",
       "<polygon fill=\"none\" stroke=\"black\" points=\"1.5,-110.5 1.5,-146.5 196.5,-146.5 196.5,-110.5 1.5,-110.5\"/>\n",
       "<text text-anchor=\"middle\" x=\"16.25\" y=\"-123.7\" font-family=\"Times,serif\" font-size=\"14.00\">x1</text>\n",
       "<polyline fill=\"none\" stroke=\"black\" points=\"31,-111 31,-146.5\"/>\n",
       "<text text-anchor=\"middle\" x=\"70.88\" y=\"-123.7\" font-family=\"Times,serif\" font-size=\"14.00\">data 2.0000</text>\n",
       "<polyline fill=\"none\" stroke=\"black\" points=\"110.75,-111 110.75,-146.5\"/>\n",
       "<text text-anchor=\"middle\" x=\"153.62\" y=\"-123.7\" font-family=\"Times,serif\" font-size=\"14.00\">grad &#45;1.5000</text>\n",
       "</g>\n",
       "<!-- 4687780544&#45;&gt;4687719760* -->\n",
       "<g id=\"edge10\" class=\"edge\">\n",
       "<title>4687780544&#45;&gt;4687719760*</title>\n",
       "<path fill=\"none\" stroke=\"black\" d=\"M196.76,-128.5C205.77,-128.5 214.47,-128.5 222.4,-128.5\"/>\n",
       "<polygon fill=\"black\" stroke=\"black\" points=\"222.25,-132 232.25,-128.5 222.25,-125 222.25,-132\"/>\n",
       "</g>\n",
       "<!-- 4687719760 -->\n",
       "<g id=\"node3\" class=\"node\">\n",
       "<title>4687719760</title>\n",
       "<polygon fill=\"none\" stroke=\"black\" points=\"334.88,-110.5 334.88,-146.5 520.12,-146.5 520.12,-110.5 334.88,-110.5\"/>\n",
       "<text text-anchor=\"middle\" x=\"344.75\" y=\"-123.7\" font-family=\"Times,serif\" font-size=\"14.00\"> </text>\n",
       "<polyline fill=\"none\" stroke=\"black\" points=\"354.62,-111 354.62,-146.5\"/>\n",
       "<text text-anchor=\"middle\" x=\"396.75\" y=\"-123.7\" font-family=\"Times,serif\" font-size=\"14.00\">data &#45;6.0000</text>\n",
       "<polyline fill=\"none\" stroke=\"black\" points=\"438.88,-111 438.88,-146.5\"/>\n",
       "<text text-anchor=\"middle\" x=\"479.5\" y=\"-123.7\" font-family=\"Times,serif\" font-size=\"14.00\">grad 0.0000</text>\n",
       "</g>\n",
       "<!-- 4687713664+ -->\n",
       "<g id=\"node8\" class=\"node\">\n",
       "<title>4687713664+</title>\n",
       "<ellipse fill=\"none\" stroke=\"black\" cx=\"594\" cy=\"-100.5\" rx=\"27\" ry=\"18\"/>\n",
       "<text text-anchor=\"middle\" x=\"594\" y=\"-95.45\" font-family=\"Times,serif\" font-size=\"14.00\">+</text>\n",
       "</g>\n",
       "<!-- 4687719760&#45;&gt;4687713664+ -->\n",
       "<g id=\"edge7\" class=\"edge\">\n",
       "<title>4687719760&#45;&gt;4687713664+</title>\n",
       "<path fill=\"none\" stroke=\"black\" d=\"M520.37,-112.86C533.12,-110.69 545.57,-108.57 556.45,-106.72\"/>\n",
       "<polygon fill=\"black\" stroke=\"black\" points=\"556.82,-110.21 566.09,-105.08 555.64,-103.31 556.82,-110.21\"/>\n",
       "</g>\n",
       "<!-- 4687719760*&#45;&gt;4687719760 -->\n",
       "<g id=\"edge1\" class=\"edge\">\n",
       "<title>4687719760*&#45;&gt;4687719760</title>\n",
       "<path fill=\"none\" stroke=\"black\" d=\"M288.43,-128.5C298.4,-128.5 310.45,-128.5 323.23,-128.5\"/>\n",
       "<polygon fill=\"black\" stroke=\"black\" points=\"323.09,-132 333.09,-128.5 323.09,-125 323.09,-132\"/>\n",
       "</g>\n",
       "<!-- 4687588208 -->\n",
       "<g id=\"node5\" class=\"node\">\n",
       "<title>4687588208</title>\n",
       "<polygon fill=\"none\" stroke=\"black\" points=\"1350,-54.5 1350,-90.5 1533.75,-90.5 1533.75,-54.5 1350,-54.5\"/>\n",
       "<text text-anchor=\"middle\" x=\"1361.38\" y=\"-67.7\" font-family=\"Times,serif\" font-size=\"14.00\">o</text>\n",
       "<polyline fill=\"none\" stroke=\"black\" points=\"1372.75,-55 1372.75,-90.5\"/>\n",
       "<text text-anchor=\"middle\" x=\"1412.62\" y=\"-67.7\" font-family=\"Times,serif\" font-size=\"14.00\">data 0.7071</text>\n",
       "<polyline fill=\"none\" stroke=\"black\" points=\"1452.5,-55 1452.5,-90.5\"/>\n",
       "<text text-anchor=\"middle\" x=\"1493.12\" y=\"-67.7\" font-family=\"Times,serif\" font-size=\"14.00\">grad 1.0000</text>\n",
       "</g>\n",
       "<!-- 4687588208tanh -->\n",
       "<g id=\"node6\" class=\"node\">\n",
       "<title>4687588208tanh</title>\n",
       "<ellipse fill=\"none\" stroke=\"black\" cx=\"1287\" cy=\"-72.5\" rx=\"27\" ry=\"18\"/>\n",
       "<text text-anchor=\"middle\" x=\"1287\" y=\"-67.45\" font-family=\"Times,serif\" font-size=\"14.00\">tanh</text>\n",
       "</g>\n",
       "<!-- 4687588208tanh&#45;&gt;4687588208 -->\n",
       "<g id=\"edge2\" class=\"edge\">\n",
       "<title>4687588208tanh&#45;&gt;4687588208</title>\n",
       "<path fill=\"none\" stroke=\"black\" d=\"M1314.28,-72.5C1321.42,-72.5 1329.61,-72.5 1338.32,-72.5\"/>\n",
       "<polygon fill=\"black\" stroke=\"black\" points=\"1338.06,-76 1348.06,-72.5 1338.06,-69 1338.06,-76\"/>\n",
       "</g>\n",
       "<!-- 4687713664 -->\n",
       "<g id=\"node7\" class=\"node\">\n",
       "<title>4687713664</title>\n",
       "<polygon fill=\"none\" stroke=\"black\" points=\"657,-82.5 657,-118.5 914.25,-118.5 914.25,-82.5 657,-82.5\"/>\n",
       "<text text-anchor=\"middle\" x=\"702.88\" y=\"-95.7\" font-family=\"Times,serif\" font-size=\"14.00\">x1w1 + x2w2</text>\n",
       "<polyline fill=\"none\" stroke=\"black\" points=\"748.75,-83 748.75,-118.5\"/>\n",
       "<text text-anchor=\"middle\" x=\"790.88\" y=\"-95.7\" font-family=\"Times,serif\" font-size=\"14.00\">data &#45;6.0000</text>\n",
       "<polyline fill=\"none\" stroke=\"black\" points=\"833,-83 833,-118.5\"/>\n",
       "<text text-anchor=\"middle\" x=\"873.62\" y=\"-95.7\" font-family=\"Times,serif\" font-size=\"14.00\">grad 0.0000</text>\n",
       "</g>\n",
       "<!-- 4687723984+ -->\n",
       "<g id=\"node15\" class=\"node\">\n",
       "<title>4687723984+</title>\n",
       "<ellipse fill=\"none\" stroke=\"black\" cx=\"977.25\" cy=\"-72.5\" rx=\"27\" ry=\"18\"/>\n",
       "<text text-anchor=\"middle\" x=\"977.25\" y=\"-67.45\" font-family=\"Times,serif\" font-size=\"14.00\">+</text>\n",
       "</g>\n",
       "<!-- 4687713664&#45;&gt;4687723984+ -->\n",
       "<g id=\"edge8\" class=\"edge\">\n",
       "<title>4687713664&#45;&gt;4687723984+</title>\n",
       "<path fill=\"none\" stroke=\"black\" d=\"M911.79,-82.02C921.65,-80.56 931.03,-79.18 939.42,-77.94\"/>\n",
       "<polygon fill=\"black\" stroke=\"black\" points=\"939.69,-81.44 949.08,-76.51 938.67,-74.51 939.69,-81.44\"/>\n",
       "</g>\n",
       "<!-- 4687713664+&#45;&gt;4687713664 -->\n",
       "<g id=\"edge3\" class=\"edge\">\n",
       "<title>4687713664+&#45;&gt;4687713664</title>\n",
       "<path fill=\"none\" stroke=\"black\" d=\"M621.37,-100.5C628.38,-100.5 636.46,-100.5 645.2,-100.5\"/>\n",
       "<polygon fill=\"black\" stroke=\"black\" points=\"645.07,-104 655.07,-100.5 645.07,-97 645.07,-104\"/>\n",
       "</g>\n",
       "<!-- 4687474576 -->\n",
       "<g id=\"node9\" class=\"node\">\n",
       "<title>4687474576</title>\n",
       "<polygon fill=\"none\" stroke=\"black\" points=\"2.25,-55.5 2.25,-91.5 195.75,-91.5 195.75,-55.5 2.25,-55.5\"/>\n",
       "<text text-anchor=\"middle\" x=\"18.5\" y=\"-68.7\" font-family=\"Times,serif\" font-size=\"14.00\">w2</text>\n",
       "<polyline fill=\"none\" stroke=\"black\" points=\"34.75,-56 34.75,-91.5\"/>\n",
       "<text text-anchor=\"middle\" x=\"74.62\" y=\"-68.7\" font-family=\"Times,serif\" font-size=\"14.00\">data 1.0000</text>\n",
       "<polyline fill=\"none\" stroke=\"black\" points=\"114.5,-56 114.5,-91.5\"/>\n",
       "<text text-anchor=\"middle\" x=\"155.12\" y=\"-68.7\" font-family=\"Times,serif\" font-size=\"14.00\">grad 0.0000</text>\n",
       "</g>\n",
       "<!-- 4687469488* -->\n",
       "<g id=\"node12\" class=\"node\">\n",
       "<title>4687469488*</title>\n",
       "<ellipse fill=\"none\" stroke=\"black\" cx=\"261\" cy=\"-73.5\" rx=\"27\" ry=\"18\"/>\n",
       "<text text-anchor=\"middle\" x=\"261\" y=\"-68.45\" font-family=\"Times,serif\" font-size=\"14.00\">*</text>\n",
       "</g>\n",
       "<!-- 4687474576&#45;&gt;4687469488* -->\n",
       "<g id=\"edge12\" class=\"edge\">\n",
       "<title>4687474576&#45;&gt;4687469488*</title>\n",
       "<path fill=\"none\" stroke=\"black\" d=\"M195.84,-73.5C205.14,-73.5 214.15,-73.5 222.32,-73.5\"/>\n",
       "<polygon fill=\"black\" stroke=\"black\" points=\"222.13,-77 232.13,-73.5 222.13,-70 222.13,-77\"/>\n",
       "</g>\n",
       "<!-- 4687476640 -->\n",
       "<g id=\"node10\" class=\"node\">\n",
       "<title>4687476640</title>\n",
       "<polygon fill=\"none\" stroke=\"black\" points=\"693.75,-27.5 693.75,-63.5 877.5,-63.5 877.5,-27.5 693.75,-27.5\"/>\n",
       "<text text-anchor=\"middle\" x=\"705.12\" y=\"-40.7\" font-family=\"Times,serif\" font-size=\"14.00\">b</text>\n",
       "<polyline fill=\"none\" stroke=\"black\" points=\"716.5,-28 716.5,-63.5\"/>\n",
       "<text text-anchor=\"middle\" x=\"756.38\" y=\"-40.7\" font-family=\"Times,serif\" font-size=\"14.00\">data 6.8814</text>\n",
       "<polyline fill=\"none\" stroke=\"black\" points=\"796.25,-28 796.25,-63.5\"/>\n",
       "<text text-anchor=\"middle\" x=\"836.88\" y=\"-40.7\" font-family=\"Times,serif\" font-size=\"14.00\">grad 0.0000</text>\n",
       "</g>\n",
       "<!-- 4687476640&#45;&gt;4687723984+ -->\n",
       "<g id=\"edge11\" class=\"edge\">\n",
       "<title>4687476640&#45;&gt;4687723984+</title>\n",
       "<path fill=\"none\" stroke=\"black\" d=\"M877.83,-58.49C899.67,-61.6 921.77,-64.74 939.48,-67.26\"/>\n",
       "<polygon fill=\"black\" stroke=\"black\" points=\"938.82,-70.71 949.21,-68.65 939.8,-63.78 938.82,-70.71\"/>\n",
       "</g>\n",
       "<!-- 4687469488 -->\n",
       "<g id=\"node11\" class=\"node\">\n",
       "<title>4687469488</title>\n",
       "<polygon fill=\"none\" stroke=\"black\" points=\"324,-55.5 324,-91.5 531,-91.5 531,-55.5 324,-55.5\"/>\n",
       "<text text-anchor=\"middle\" x=\"347\" y=\"-68.7\" font-family=\"Times,serif\" font-size=\"14.00\">x2w2</text>\n",
       "<polyline fill=\"none\" stroke=\"black\" points=\"370,-56 370,-91.5\"/>\n",
       "<text text-anchor=\"middle\" x=\"409.88\" y=\"-68.7\" font-family=\"Times,serif\" font-size=\"14.00\">data 0.0000</text>\n",
       "<polyline fill=\"none\" stroke=\"black\" points=\"449.75,-56 449.75,-91.5\"/>\n",
       "<text text-anchor=\"middle\" x=\"490.38\" y=\"-68.7\" font-family=\"Times,serif\" font-size=\"14.00\">grad 0.5000</text>\n",
       "</g>\n",
       "<!-- 4687469488&#45;&gt;4687713664+ -->\n",
       "<g id=\"edge9\" class=\"edge\">\n",
       "<title>4687469488&#45;&gt;4687713664+</title>\n",
       "<path fill=\"none\" stroke=\"black\" d=\"M531.28,-90.37C539.97,-91.8 548.34,-93.17 555.96,-94.42\"/>\n",
       "<polygon fill=\"black\" stroke=\"black\" points=\"555.32,-97.86 565.76,-96.03 556.45,-90.95 555.32,-97.86\"/>\n",
       "</g>\n",
       "<!-- 4687469488*&#45;&gt;4687469488 -->\n",
       "<g id=\"edge4\" class=\"edge\">\n",
       "<title>4687469488*&#45;&gt;4687469488</title>\n",
       "<path fill=\"none\" stroke=\"black\" d=\"M288.43,-73.5C295.52,-73.5 303.65,-73.5 312.35,-73.5\"/>\n",
       "<polygon fill=\"black\" stroke=\"black\" points=\"312.12,-77 322.12,-73.5 312.12,-70 312.12,-77\"/>\n",
       "</g>\n",
       "<!-- 4687467472 -->\n",
       "<g id=\"node13\" class=\"node\">\n",
       "<title>4687467472</title>\n",
       "<polygon fill=\"none\" stroke=\"black\" points=\"3.75,-0.5 3.75,-36.5 194.25,-36.5 194.25,-0.5 3.75,-0.5\"/>\n",
       "<text text-anchor=\"middle\" x=\"18.5\" y=\"-13.7\" font-family=\"Times,serif\" font-size=\"14.00\">x2</text>\n",
       "<polyline fill=\"none\" stroke=\"black\" points=\"33.25,-1 33.25,-36.5\"/>\n",
       "<text text-anchor=\"middle\" x=\"73.12\" y=\"-13.7\" font-family=\"Times,serif\" font-size=\"14.00\">data 0.0000</text>\n",
       "<polyline fill=\"none\" stroke=\"black\" points=\"113,-1 113,-36.5\"/>\n",
       "<text text-anchor=\"middle\" x=\"153.62\" y=\"-13.7\" font-family=\"Times,serif\" font-size=\"14.00\">grad 0.5000</text>\n",
       "</g>\n",
       "<!-- 4687467472&#45;&gt;4687469488* -->\n",
       "<g id=\"edge6\" class=\"edge\">\n",
       "<title>4687467472&#45;&gt;4687469488*</title>\n",
       "<path fill=\"none\" stroke=\"black\" d=\"M172.12,-36.99C180.9,-39.65 189.7,-42.5 198,-45.5 208.09,-49.14 218.82,-53.73 228.47,-58.12\"/>\n",
       "<polygon fill=\"black\" stroke=\"black\" points=\"226.9,-61.25 237.45,-62.31 229.86,-54.91 226.9,-61.25\"/>\n",
       "</g>\n",
       "<!-- 4687723984 -->\n",
       "<g id=\"node14\" class=\"node\">\n",
       "<title>4687723984</title>\n",
       "<polygon fill=\"none\" stroke=\"black\" points=\"1040.25,-54.5 1040.25,-90.5 1224,-90.5 1224,-54.5 1040.25,-54.5\"/>\n",
       "<text text-anchor=\"middle\" x=\"1051.62\" y=\"-67.7\" font-family=\"Times,serif\" font-size=\"14.00\">n</text>\n",
       "<polyline fill=\"none\" stroke=\"black\" points=\"1063,-55 1063,-90.5\"/>\n",
       "<text text-anchor=\"middle\" x=\"1102.88\" y=\"-67.7\" font-family=\"Times,serif\" font-size=\"14.00\">data 0.8814</text>\n",
       "<polyline fill=\"none\" stroke=\"black\" points=\"1142.75,-55 1142.75,-90.5\"/>\n",
       "<text text-anchor=\"middle\" x=\"1183.38\" y=\"-67.7\" font-family=\"Times,serif\" font-size=\"14.00\">grad 0.5000</text>\n",
       "</g>\n",
       "<!-- 4687723984&#45;&gt;4687588208tanh -->\n",
       "<g id=\"edge14\" class=\"edge\">\n",
       "<title>4687723984&#45;&gt;4687588208tanh</title>\n",
       "<path fill=\"none\" stroke=\"black\" d=\"M1224.26,-72.5C1232.64,-72.5 1240.77,-72.5 1248.23,-72.5\"/>\n",
       "<polygon fill=\"black\" stroke=\"black\" points=\"1248.2,-76 1258.2,-72.5 1248.2,-69 1248.2,-76\"/>\n",
       "</g>\n",
       "<!-- 4687723984+&#45;&gt;4687723984 -->\n",
       "<g id=\"edge5\" class=\"edge\">\n",
       "<title>4687723984+&#45;&gt;4687723984</title>\n",
       "<path fill=\"none\" stroke=\"black\" d=\"M1004.53,-72.5C1011.67,-72.5 1019.86,-72.5 1028.57,-72.5\"/>\n",
       "<polygon fill=\"black\" stroke=\"black\" points=\"1028.31,-76 1038.31,-72.5 1028.31,-69 1028.31,-76\"/>\n",
       "</g>\n",
       "</g>\n",
       "</svg>\n"
      ],
      "text/plain": [
       "<graphviz.graphs.Digraph at 0x1176d34a0>"
      ]
     },
     "execution_count": 34,
     "metadata": {},
     "output_type": "execute_result"
    }
   ],
   "source": [
    "draw_dot(o)"
   ]
  },
  {
   "cell_type": "markdown",
   "id": "49d3c110-b1ca-4812-bc0c-67a48ffa8fc0",
   "metadata": {},
   "source": [
    "**3. Topological Map**\n",
    "\n",
    "We're arranging the nodes from left to right to ensure that all the child nodes are processed before o."
   ]
  },
  {
   "cell_type": "code",
   "execution_count": 62,
   "id": "e298650b-0e43-4897-bcd9-487827d8a3c4",
   "metadata": {},
   "outputs": [
    {
     "name": "stdout",
     "output_type": "stream",
     "text": [
      "[Value(data=6.881373587019543), Value(data=1.0), Value(data=0.0), Value(data=0.0), Value(data=2.0), Value(data=-3.0), Value(data=-6.0), Value(data=-6.0), Value(data=0.8813735870195432), Value(data=0.7071067811865476)]\n"
     ]
    }
   ],
   "source": [
    "o.grad = 1.0\n",
    "\n",
    "topo = []\n",
    "visited = set()\n",
    "def build_topo(v):\n",
    "    if v not in visited:\n",
    "        visited.add(v)\n",
    "        for child in v._prev:\n",
    "            build_topo(child)\n",
    "        topo.append(v)\n",
    "build_topo(o) # by calling build_topo on o, we start with it and recursively apply build_topo on all children on o, going to the left\n",
    "print(topo)\n",
    "\n",
    "for node in reversed(topo):\n",
    "    node._backward()\n",
    "    \n",
    "# now we don't have to call __backward() on each node manually\n",
    "# we added this to the Value class as .backward()"
   ]
  },
  {
   "cell_type": "code",
   "execution_count": 59,
   "id": "b81c55d1-1d84-40e7-86d2-767961969b76",
   "metadata": {},
   "outputs": [],
   "source": [
    "# Now that we added to the functionality to the class, we can call directly o.backward()\n",
    "o.backward()"
   ]
  },
  {
   "cell_type": "code",
   "execution_count": 60,
   "id": "822cdab3-c2c9-4f47-b1b3-8aea8f2cb2f9",
   "metadata": {},
   "outputs": [
    {
     "name": "stderr",
     "output_type": "stream",
     "text": [
      "Python(73442) MallocStackLogging: can't turn off malloc stack logging because it was not enabled.\n"
     ]
    },
    {
     "data": {
      "image/svg+xml": [
       "<?xml version=\"1.0\" encoding=\"UTF-8\" standalone=\"no\"?>\n",
       "<!DOCTYPE svg PUBLIC \"-//W3C//DTD SVG 1.1//EN\"\n",
       " \"http://www.w3.org/Graphics/SVG/1.1/DTD/svg11.dtd\">\n",
       "<!-- Generated by graphviz version 11.0.0 (20240428.1522)\n",
       " -->\n",
       "<!-- Pages: 1 -->\n",
       "<svg width=\"1542pt\" height=\"210pt\"\n",
       " viewBox=\"0.00 0.00 1541.75 210.00\" xmlns=\"http://www.w3.org/2000/svg\" xmlns:xlink=\"http://www.w3.org/1999/xlink\">\n",
       "<g id=\"graph0\" class=\"graph\" transform=\"scale(1 1) rotate(0) translate(4 206)\">\n",
       "<polygon fill=\"white\" stroke=\"none\" points=\"-4,4 -4,-206 1537.75,-206 1537.75,4 -4,4\"/>\n",
       "<!-- 4687724080 -->\n",
       "<g id=\"node1\" class=\"node\">\n",
       "<title>4687724080</title>\n",
       "<polygon fill=\"none\" stroke=\"black\" points=\"1040.25,-109.5 1040.25,-145.5 1224,-145.5 1224,-109.5 1040.25,-109.5\"/>\n",
       "<text text-anchor=\"middle\" x=\"1051.62\" y=\"-122.7\" font-family=\"Times,serif\" font-size=\"14.00\">n</text>\n",
       "<polyline fill=\"none\" stroke=\"black\" points=\"1063,-110 1063,-145.5\"/>\n",
       "<text text-anchor=\"middle\" x=\"1102.88\" y=\"-122.7\" font-family=\"Times,serif\" font-size=\"14.00\">data 0.8814</text>\n",
       "<polyline fill=\"none\" stroke=\"black\" points=\"1142.75,-110 1142.75,-145.5\"/>\n",
       "<text text-anchor=\"middle\" x=\"1183.38\" y=\"-122.7\" font-family=\"Times,serif\" font-size=\"14.00\">grad 0.5000</text>\n",
       "</g>\n",
       "<!-- 4687581776tanh -->\n",
       "<g id=\"node4\" class=\"node\">\n",
       "<title>4687581776tanh</title>\n",
       "<ellipse fill=\"none\" stroke=\"black\" cx=\"1287\" cy=\"-127.5\" rx=\"27\" ry=\"18\"/>\n",
       "<text text-anchor=\"middle\" x=\"1287\" y=\"-122.45\" font-family=\"Times,serif\" font-size=\"14.00\">tanh</text>\n",
       "</g>\n",
       "<!-- 4687724080&#45;&gt;4687581776tanh -->\n",
       "<g id=\"edge11\" class=\"edge\">\n",
       "<title>4687724080&#45;&gt;4687581776tanh</title>\n",
       "<path fill=\"none\" stroke=\"black\" d=\"M1224.26,-127.5C1232.64,-127.5 1240.77,-127.5 1248.23,-127.5\"/>\n",
       "<polygon fill=\"black\" stroke=\"black\" points=\"1248.2,-131 1258.2,-127.5 1248.2,-124 1248.2,-131\"/>\n",
       "</g>\n",
       "<!-- 4687724080+ -->\n",
       "<g id=\"node2\" class=\"node\">\n",
       "<title>4687724080+</title>\n",
       "<ellipse fill=\"none\" stroke=\"black\" cx=\"977.25\" cy=\"-127.5\" rx=\"27\" ry=\"18\"/>\n",
       "<text text-anchor=\"middle\" x=\"977.25\" y=\"-122.45\" font-family=\"Times,serif\" font-size=\"14.00\">+</text>\n",
       "</g>\n",
       "<!-- 4687724080+&#45;&gt;4687724080 -->\n",
       "<g id=\"edge1\" class=\"edge\">\n",
       "<title>4687724080+&#45;&gt;4687724080</title>\n",
       "<path fill=\"none\" stroke=\"black\" d=\"M1004.53,-127.5C1011.67,-127.5 1019.86,-127.5 1028.57,-127.5\"/>\n",
       "<polygon fill=\"black\" stroke=\"black\" points=\"1028.31,-131 1038.31,-127.5 1028.31,-124 1028.31,-131\"/>\n",
       "</g>\n",
       "<!-- 4687581776 -->\n",
       "<g id=\"node3\" class=\"node\">\n",
       "<title>4687581776</title>\n",
       "<polygon fill=\"none\" stroke=\"black\" points=\"1350,-109.5 1350,-145.5 1533.75,-145.5 1533.75,-109.5 1350,-109.5\"/>\n",
       "<text text-anchor=\"middle\" x=\"1361.38\" y=\"-122.7\" font-family=\"Times,serif\" font-size=\"14.00\">o</text>\n",
       "<polyline fill=\"none\" stroke=\"black\" points=\"1372.75,-110 1372.75,-145.5\"/>\n",
       "<text text-anchor=\"middle\" x=\"1412.62\" y=\"-122.7\" font-family=\"Times,serif\" font-size=\"14.00\">data 0.7071</text>\n",
       "<polyline fill=\"none\" stroke=\"black\" points=\"1452.5,-110 1452.5,-145.5\"/>\n",
       "<text text-anchor=\"middle\" x=\"1493.12\" y=\"-122.7\" font-family=\"Times,serif\" font-size=\"14.00\">grad 1.0000</text>\n",
       "</g>\n",
       "<!-- 4687581776tanh&#45;&gt;4687581776 -->\n",
       "<g id=\"edge2\" class=\"edge\">\n",
       "<title>4687581776tanh&#45;&gt;4687581776</title>\n",
       "<path fill=\"none\" stroke=\"black\" d=\"M1314.28,-127.5C1321.42,-127.5 1329.61,-127.5 1338.32,-127.5\"/>\n",
       "<polygon fill=\"black\" stroke=\"black\" points=\"1338.06,-131 1348.06,-127.5 1338.06,-124 1338.06,-131\"/>\n",
       "</g>\n",
       "<!-- 4687474768 -->\n",
       "<g id=\"node5\" class=\"node\">\n",
       "<title>4687474768</title>\n",
       "<polygon fill=\"none\" stroke=\"black\" points=\"0,-55.5 0,-91.5 198,-91.5 198,-55.5 0,-55.5\"/>\n",
       "<text text-anchor=\"middle\" x=\"16.25\" y=\"-68.7\" font-family=\"Times,serif\" font-size=\"14.00\">w1</text>\n",
       "<polyline fill=\"none\" stroke=\"black\" points=\"32.5,-56 32.5,-91.5\"/>\n",
       "<text text-anchor=\"middle\" x=\"74.62\" y=\"-68.7\" font-family=\"Times,serif\" font-size=\"14.00\">data &#45;3.0000</text>\n",
       "<polyline fill=\"none\" stroke=\"black\" points=\"116.75,-56 116.75,-91.5\"/>\n",
       "<text text-anchor=\"middle\" x=\"157.38\" y=\"-68.7\" font-family=\"Times,serif\" font-size=\"14.00\">grad 1.0000</text>\n",
       "</g>\n",
       "<!-- 4687472992* -->\n",
       "<g id=\"node14\" class=\"node\">\n",
       "<title>4687472992*</title>\n",
       "<ellipse fill=\"none\" stroke=\"black\" cx=\"261\" cy=\"-73.5\" rx=\"27\" ry=\"18\"/>\n",
       "<text text-anchor=\"middle\" x=\"261\" y=\"-68.45\" font-family=\"Times,serif\" font-size=\"14.00\">*</text>\n",
       "</g>\n",
       "<!-- 4687474768&#45;&gt;4687472992* -->\n",
       "<g id=\"edge12\" class=\"edge\">\n",
       "<title>4687474768&#45;&gt;4687472992*</title>\n",
       "<path fill=\"none\" stroke=\"black\" d=\"M198.14,-73.5C206.61,-73.5 214.8,-73.5 222.29,-73.5\"/>\n",
       "<polygon fill=\"black\" stroke=\"black\" points=\"222.29,-77 232.29,-73.5 222.29,-70 222.29,-77\"/>\n",
       "</g>\n",
       "<!-- 4687466656 -->\n",
       "<g id=\"node6\" class=\"node\">\n",
       "<title>4687466656</title>\n",
       "<polygon fill=\"none\" stroke=\"black\" points=\"324,-110.5 324,-146.5 531,-146.5 531,-110.5 324,-110.5\"/>\n",
       "<text text-anchor=\"middle\" x=\"347\" y=\"-123.7\" font-family=\"Times,serif\" font-size=\"14.00\">x2w2</text>\n",
       "<polyline fill=\"none\" stroke=\"black\" points=\"370,-111 370,-146.5\"/>\n",
       "<text text-anchor=\"middle\" x=\"409.88\" y=\"-123.7\" font-family=\"Times,serif\" font-size=\"14.00\">data 0.0000</text>\n",
       "<polyline fill=\"none\" stroke=\"black\" points=\"449.75,-111 449.75,-146.5\"/>\n",
       "<text text-anchor=\"middle\" x=\"490.38\" y=\"-123.7\" font-family=\"Times,serif\" font-size=\"14.00\">grad 0.5000</text>\n",
       "</g>\n",
       "<!-- 4678633664+ -->\n",
       "<g id=\"node10\" class=\"node\">\n",
       "<title>4678633664+</title>\n",
       "<ellipse fill=\"none\" stroke=\"black\" cx=\"594\" cy=\"-100.5\" rx=\"27\" ry=\"18\"/>\n",
       "<text text-anchor=\"middle\" x=\"594\" y=\"-95.45\" font-family=\"Times,serif\" font-size=\"14.00\">+</text>\n",
       "</g>\n",
       "<!-- 4687466656&#45;&gt;4678633664+ -->\n",
       "<g id=\"edge10\" class=\"edge\">\n",
       "<title>4687466656&#45;&gt;4678633664+</title>\n",
       "<path fill=\"none\" stroke=\"black\" d=\"M531.28,-111.01C540.16,-109.49 548.71,-108.04 556.46,-106.72\"/>\n",
       "<polygon fill=\"black\" stroke=\"black\" points=\"556.79,-110.21 566.06,-105.09 555.61,-103.31 556.79,-110.21\"/>\n",
       "</g>\n",
       "<!-- 4687466656* -->\n",
       "<g id=\"node7\" class=\"node\">\n",
       "<title>4687466656*</title>\n",
       "<ellipse fill=\"none\" stroke=\"black\" cx=\"261\" cy=\"-128.5\" rx=\"27\" ry=\"18\"/>\n",
       "<text text-anchor=\"middle\" x=\"261\" y=\"-123.45\" font-family=\"Times,serif\" font-size=\"14.00\">*</text>\n",
       "</g>\n",
       "<!-- 4687466656*&#45;&gt;4687466656 -->\n",
       "<g id=\"edge3\" class=\"edge\">\n",
       "<title>4687466656*&#45;&gt;4687466656</title>\n",
       "<path fill=\"none\" stroke=\"black\" d=\"M288.43,-128.5C295.52,-128.5 303.65,-128.5 312.35,-128.5\"/>\n",
       "<polygon fill=\"black\" stroke=\"black\" points=\"312.12,-132 322.12,-128.5 312.12,-125 312.12,-132\"/>\n",
       "</g>\n",
       "<!-- 4687472800 -->\n",
       "<g id=\"node8\" class=\"node\">\n",
       "<title>4687472800</title>\n",
       "<polygon fill=\"none\" stroke=\"black\" points=\"693.75,-137.5 693.75,-173.5 877.5,-173.5 877.5,-137.5 693.75,-137.5\"/>\n",
       "<text text-anchor=\"middle\" x=\"705.12\" y=\"-150.7\" font-family=\"Times,serif\" font-size=\"14.00\">b</text>\n",
       "<polyline fill=\"none\" stroke=\"black\" points=\"716.5,-138 716.5,-173.5\"/>\n",
       "<text text-anchor=\"middle\" x=\"756.38\" y=\"-150.7\" font-family=\"Times,serif\" font-size=\"14.00\">data 6.8814</text>\n",
       "<polyline fill=\"none\" stroke=\"black\" points=\"796.25,-138 796.25,-173.5\"/>\n",
       "<text text-anchor=\"middle\" x=\"836.88\" y=\"-150.7\" font-family=\"Times,serif\" font-size=\"14.00\">grad 0.5000</text>\n",
       "</g>\n",
       "<!-- 4687472800&#45;&gt;4687724080+ -->\n",
       "<g id=\"edge14\" class=\"edge\">\n",
       "<title>4687472800&#45;&gt;4687724080+</title>\n",
       "<path fill=\"none\" stroke=\"black\" d=\"M877.83,-142.03C899.67,-138.81 921.77,-135.54 939.48,-132.93\"/>\n",
       "<polygon fill=\"black\" stroke=\"black\" points=\"939.83,-136.42 949.21,-131.49 938.81,-129.49 939.83,-136.42\"/>\n",
       "</g>\n",
       "<!-- 4678633664 -->\n",
       "<g id=\"node9\" class=\"node\">\n",
       "<title>4678633664</title>\n",
       "<polygon fill=\"none\" stroke=\"black\" points=\"657,-82.5 657,-118.5 914.25,-118.5 914.25,-82.5 657,-82.5\"/>\n",
       "<text text-anchor=\"middle\" x=\"702.88\" y=\"-95.7\" font-family=\"Times,serif\" font-size=\"14.00\">x1w1 + x2w2</text>\n",
       "<polyline fill=\"none\" stroke=\"black\" points=\"748.75,-83 748.75,-118.5\"/>\n",
       "<text text-anchor=\"middle\" x=\"790.88\" y=\"-95.7\" font-family=\"Times,serif\" font-size=\"14.00\">data &#45;6.0000</text>\n",
       "<polyline fill=\"none\" stroke=\"black\" points=\"833,-83 833,-118.5\"/>\n",
       "<text text-anchor=\"middle\" x=\"873.62\" y=\"-95.7\" font-family=\"Times,serif\" font-size=\"14.00\">grad 0.5000</text>\n",
       "</g>\n",
       "<!-- 4678633664&#45;&gt;4687724080+ -->\n",
       "<g id=\"edge8\" class=\"edge\">\n",
       "<title>4678633664&#45;&gt;4687724080+</title>\n",
       "<path fill=\"none\" stroke=\"black\" d=\"M914.68,-118.73C923.31,-119.96 931.52,-121.13 938.96,-122.19\"/>\n",
       "<polygon fill=\"black\" stroke=\"black\" points=\"938.46,-125.65 948.85,-123.6 939.44,-118.72 938.46,-125.65\"/>\n",
       "</g>\n",
       "<!-- 4678633664+&#45;&gt;4678633664 -->\n",
       "<g id=\"edge4\" class=\"edge\">\n",
       "<title>4678633664+&#45;&gt;4678633664</title>\n",
       "<path fill=\"none\" stroke=\"black\" d=\"M621.37,-100.5C628.38,-100.5 636.46,-100.5 645.2,-100.5\"/>\n",
       "<polygon fill=\"black\" stroke=\"black\" points=\"645.07,-104 655.07,-100.5 645.07,-97 645.07,-104\"/>\n",
       "</g>\n",
       "<!-- 4687476400 -->\n",
       "<g id=\"node11\" class=\"node\">\n",
       "<title>4687476400</title>\n",
       "<polygon fill=\"none\" stroke=\"black\" points=\"2.25,-165.5 2.25,-201.5 195.75,-201.5 195.75,-165.5 2.25,-165.5\"/>\n",
       "<text text-anchor=\"middle\" x=\"18.5\" y=\"-178.7\" font-family=\"Times,serif\" font-size=\"14.00\">w2</text>\n",
       "<polyline fill=\"none\" stroke=\"black\" points=\"34.75,-166 34.75,-201.5\"/>\n",
       "<text text-anchor=\"middle\" x=\"74.62\" y=\"-178.7\" font-family=\"Times,serif\" font-size=\"14.00\">data 1.0000</text>\n",
       "<polyline fill=\"none\" stroke=\"black\" points=\"114.5,-166 114.5,-201.5\"/>\n",
       "<text text-anchor=\"middle\" x=\"155.12\" y=\"-178.7\" font-family=\"Times,serif\" font-size=\"14.00\">grad 0.0000</text>\n",
       "</g>\n",
       "<!-- 4687476400&#45;&gt;4687466656* -->\n",
       "<g id=\"edge6\" class=\"edge\">\n",
       "<title>4687476400&#45;&gt;4687466656*</title>\n",
       "<path fill=\"none\" stroke=\"black\" d=\"M172.12,-165.01C180.9,-162.35 189.7,-159.5 198,-156.5 208.09,-152.86 218.82,-148.27 228.47,-143.88\"/>\n",
       "<polygon fill=\"black\" stroke=\"black\" points=\"229.86,-147.09 237.45,-139.69 226.9,-140.75 229.86,-147.09\"/>\n",
       "</g>\n",
       "<!-- 4687478512 -->\n",
       "<g id=\"node12\" class=\"node\">\n",
       "<title>4687478512</title>\n",
       "<polygon fill=\"none\" stroke=\"black\" points=\"3.75,-110.5 3.75,-146.5 194.25,-146.5 194.25,-110.5 3.75,-110.5\"/>\n",
       "<text text-anchor=\"middle\" x=\"18.5\" y=\"-123.7\" font-family=\"Times,serif\" font-size=\"14.00\">x2</text>\n",
       "<polyline fill=\"none\" stroke=\"black\" points=\"33.25,-111 33.25,-146.5\"/>\n",
       "<text text-anchor=\"middle\" x=\"73.12\" y=\"-123.7\" font-family=\"Times,serif\" font-size=\"14.00\">data 0.0000</text>\n",
       "<polyline fill=\"none\" stroke=\"black\" points=\"113,-111 113,-146.5\"/>\n",
       "<text text-anchor=\"middle\" x=\"153.62\" y=\"-123.7\" font-family=\"Times,serif\" font-size=\"14.00\">grad 0.5000</text>\n",
       "</g>\n",
       "<!-- 4687478512&#45;&gt;4687466656* -->\n",
       "<g id=\"edge7\" class=\"edge\">\n",
       "<title>4687478512&#45;&gt;4687466656*</title>\n",
       "<path fill=\"none\" stroke=\"black\" d=\"M194.46,-128.5C204.21,-128.5 213.66,-128.5 222.21,-128.5\"/>\n",
       "<polygon fill=\"black\" stroke=\"black\" points=\"222.12,-132 232.12,-128.5 222.12,-125 222.12,-132\"/>\n",
       "</g>\n",
       "<!-- 4687472992 -->\n",
       "<g id=\"node13\" class=\"node\">\n",
       "<title>4687472992</title>\n",
       "<polygon fill=\"none\" stroke=\"black\" points=\"334.88,-55.5 334.88,-91.5 520.12,-91.5 520.12,-55.5 334.88,-55.5\"/>\n",
       "<text text-anchor=\"middle\" x=\"344.75\" y=\"-68.7\" font-family=\"Times,serif\" font-size=\"14.00\"> </text>\n",
       "<polyline fill=\"none\" stroke=\"black\" points=\"354.62,-56 354.62,-91.5\"/>\n",
       "<text text-anchor=\"middle\" x=\"396.75\" y=\"-68.7\" font-family=\"Times,serif\" font-size=\"14.00\">data &#45;6.0000</text>\n",
       "<polyline fill=\"none\" stroke=\"black\" points=\"438.88,-56 438.88,-91.5\"/>\n",
       "<text text-anchor=\"middle\" x=\"479.5\" y=\"-68.7\" font-family=\"Times,serif\" font-size=\"14.00\">grad 0.5000</text>\n",
       "</g>\n",
       "<!-- 4687472992&#45;&gt;4678633664+ -->\n",
       "<g id=\"edge9\" class=\"edge\">\n",
       "<title>4687472992&#45;&gt;4678633664+</title>\n",
       "<path fill=\"none\" stroke=\"black\" d=\"M520.37,-88.58C533.02,-90.65 545.36,-92.68 556.17,-94.45\"/>\n",
       "<polygon fill=\"black\" stroke=\"black\" points=\"555.32,-97.86 565.75,-96.03 556.45,-90.95 555.32,-97.86\"/>\n",
       "</g>\n",
       "<!-- 4687472992*&#45;&gt;4687472992 -->\n",
       "<g id=\"edge5\" class=\"edge\">\n",
       "<title>4687472992*&#45;&gt;4687472992</title>\n",
       "<path fill=\"none\" stroke=\"black\" d=\"M288.43,-73.5C298.4,-73.5 310.45,-73.5 323.23,-73.5\"/>\n",
       "<polygon fill=\"black\" stroke=\"black\" points=\"323.09,-77 333.09,-73.5 323.09,-70 323.09,-77\"/>\n",
       "</g>\n",
       "<!-- 4687477648 -->\n",
       "<g id=\"node15\" class=\"node\">\n",
       "<title>4687477648</title>\n",
       "<polygon fill=\"none\" stroke=\"black\" points=\"1.5,-0.5 1.5,-36.5 196.5,-36.5 196.5,-0.5 1.5,-0.5\"/>\n",
       "<text text-anchor=\"middle\" x=\"16.25\" y=\"-13.7\" font-family=\"Times,serif\" font-size=\"14.00\">x1</text>\n",
       "<polyline fill=\"none\" stroke=\"black\" points=\"31,-1 31,-36.5\"/>\n",
       "<text text-anchor=\"middle\" x=\"70.88\" y=\"-13.7\" font-family=\"Times,serif\" font-size=\"14.00\">data 2.0000</text>\n",
       "<polyline fill=\"none\" stroke=\"black\" points=\"110.75,-1 110.75,-36.5\"/>\n",
       "<text text-anchor=\"middle\" x=\"153.62\" y=\"-13.7\" font-family=\"Times,serif\" font-size=\"14.00\">grad &#45;1.5000</text>\n",
       "</g>\n",
       "<!-- 4687477648&#45;&gt;4687472992* -->\n",
       "<g id=\"edge13\" class=\"edge\">\n",
       "<title>4687477648&#45;&gt;4687472992*</title>\n",
       "<path fill=\"none\" stroke=\"black\" d=\"M168.91,-36.94C178.74,-39.93 188.67,-43.15 198,-46.5 207.96,-50.07 218.58,-54.47 228.18,-58.68\"/>\n",
       "<polygon fill=\"black\" stroke=\"black\" points=\"226.54,-61.78 237.1,-62.67 229.4,-55.39 226.54,-61.78\"/>\n",
       "</g>\n",
       "</g>\n",
       "</svg>\n"
      ],
      "text/plain": [
       "<graphviz.graphs.Digraph at 0x117652120>"
      ]
     },
     "execution_count": 60,
     "metadata": {},
     "output_type": "execute_result"
    }
   ],
   "source": [
    "draw_dot(o)"
   ]
  },
  {
   "cell_type": "markdown",
   "id": "0f41a45f-5edc-45ae-8c25-748fb9444836",
   "metadata": {},
   "source": [
    "### 4. Using PyTorch to implement the same thing"
   ]
  },
  {
   "cell_type": "code",
   "execution_count": 101,
   "id": "b403148b-0640-43fd-a9ae-b659fc3776cd",
   "metadata": {},
   "outputs": [
    {
     "name": "stdout",
     "output_type": "stream",
     "text": [
      "0.7071066904050358\n",
      "---\n",
      "x2 0.5000001283844369\n",
      "w2 0.0\n",
      "w1 1.0000002567688737\n",
      "x1 -1.5000003851533106\n"
     ]
    }
   ],
   "source": [
    "import torch\n",
    "\n",
    "# Micrograd is a scalar-driven engine and only works with scalars, whereas PT works with tensors, which are n-dimensional arrays of scalars\n",
    " # casting it to double because Python uses double as the default for scalars, whereas PT tensors are in float32\n",
    "x1 = torch.Tensor([2.0]).double(); x1.requires_grad = True # these are set to False by default for efficiency, since leaf nodes don't require gradients\n",
    "x2 = torch.Tensor([0.0]).double(); x2.requires_grad = True\n",
    "w1 = torch.Tensor([-3.0]).double(); w1.requires_grad = True\n",
    "w2 = torch.Tensor([1.0]).double(); w2.requires_grad = True\n",
    "b = torch.Tensor([6.8813735870195432]).double(); b.requires_grad = True\n",
    "n = x1*w1 + x2*w2 + b\n",
    "o = torch.tanh(n)\n",
    "\n",
    "print(o.data.item())\n",
    "o.backward()\n",
    "\n",
    "print('---')\n",
    "print('x2', x2.grad.item())\n",
    "print('w2', w2.grad.item())\n",
    "print('w1', w1.grad.item())\n",
    "print('x1', x1.grad.item())"
   ]
  },
  {
   "cell_type": "markdown",
   "id": "dc6d9e03-4ee3-49e2-b285-8834cd2e28a4",
   "metadata": {},
   "source": [
    "### 5. Building a 2-Layer MLP w/ Micrograd"
   ]
  },
  {
   "cell_type": "code",
   "execution_count": 576,
   "id": "2cbc2f24-5338-42b6-8d96-1b40cd34f55b",
   "metadata": {},
   "outputs": [
    {
     "data": {
      "text/plain": [
       "Value(data=0.6018601765892704)"
      ]
     },
     "execution_count": 576,
     "metadata": {},
     "output_type": "execute_result"
    }
   ],
   "source": [
    "import random\n",
    "\n",
    "class Neuron:\n",
    "    def __init__(self, nin):\n",
    "        self.w = [Value(random.uniform(-1,1)) for _ in range(nin)] # assigns a random weight between -1 and 1 to the neuron\n",
    "        self.b = Value(random.uniform(-1,1)) # assings a random bias between -1 and 1 to the neuron\n",
    "    \n",
    "    def __call__(self, x):\n",
    "        # w * x + b\n",
    "        act = sum((wi * xi for wi, xi in zip(self.w, x)), self.b) # zip creates multiple tuples of (w, x)\n",
    "        out = act.tanh()\n",
    "        return out\n",
    "\n",
    "    def parameters(self):\n",
    "        return self.w + [self.b]\n",
    "\n",
    "class Layer: \n",
    "    def __init__(self, nin, nout):\n",
    "        self.neurons = [Neuron(nin) for _ in range(nout)] # initalizes the input number of neurons for each output\n",
    "\n",
    "    def __call__(self, x):\n",
    "        outs = [n(x) for n in self.neurons] # returns an array with the dimensions of the output, since the neurons are processed\n",
    "        return outs[0] if len(outs) == 1 else outs\n",
    "\n",
    "    def parameters(self):\n",
    "        return [p for neuron in self.neurons for p in neuron.parameters()]\n",
    "        # code above is same as code below:\n",
    "\n",
    "        # params = []\n",
    "        # for neuron in self.neurons:\n",
    "        #     ps = neuron.parameters()\n",
    "        #     params.extend(ps)\n",
    "        # return params\n",
    "    \n",
    "\n",
    "class MLP:\n",
    "    def __init__(self, nin, nouts):\n",
    "        sz = [nin] + nouts\n",
    "        self.layers = [Layer(sz[i], sz[i+1]) for i in range(len(nouts))]\n",
    "\n",
    "    def __call__(self,x):\n",
    "        for layer in self.layers:\n",
    "            x = layer(x)\n",
    "        return x\n",
    "\n",
    "    def parameters(self):\n",
    "        return [p for layer in self.layers for p in layer.parameters()]"
   ]
  },
  {
   "cell_type": "code",
   "execution_count": null,
   "id": "c9ff875e-9567-4872-8f4e-44569d5f9d54",
   "metadata": {},
   "outputs": [],
   "source": [
    "# initializing the MLP\n",
    "\n",
    "x = [2.0, 3.0, -1.0]\n",
    "n = MLP(3, [4, 4, 1])\n",
    "n(x)"
   ]
  },
  {
   "cell_type": "code",
   "execution_count": 577,
   "id": "45122fe4-0440-4620-b12f-d0cd98d539f2",
   "metadata": {},
   "outputs": [
    {
     "data": {
      "text/plain": [
       "[Value(data=0.6018601765892704),\n",
       " Value(data=0.6699112297224608),\n",
       " Value(data=0.5020150565777047),\n",
       " Value(data=0.6769493046493635)]"
      ]
     },
     "execution_count": 577,
     "metadata": {},
     "output_type": "execute_result"
    }
   ],
   "source": [
    "# input data\n",
    "xs = [\n",
    "    [2.0, 3.0, -1.0],\n",
    "    [3.0, -1.0, 0.5],\n",
    "    [0.5, 1.0, 1.0],\n",
    "    [1.0, 1.0, -1.0],\n",
    "]\n",
    "\n",
    "ys = [1.0, -1.0, -1.0, 1.0] # desired targets\n",
    "ypred = [n(x) for x in xs]\n",
    "ypred"
   ]
  },
  {
   "cell_type": "code",
   "execution_count": 578,
   "id": "05b14873-a8ef-42c8-b5ed-d76477ed4350",
   "metadata": {},
   "outputs": [
    {
     "data": {
      "text/plain": [
       "Value(data=5.307529816091363)"
      ]
     },
     "execution_count": 578,
     "metadata": {},
     "output_type": "execute_result"
    }
   ],
   "source": [
    "# implementing mean squared error loss function\n",
    "loss = sum(((yout - ygt)**2) for ygt, yout in zip(ys, ypred))\n",
    "loss"
   ]
  },
  {
   "cell_type": "code",
   "execution_count": 301,
   "id": "2040e25a-5494-46e2-b1b4-ef118099d293",
   "metadata": {},
   "outputs": [],
   "source": [
    "# backward pass\n",
    "loss.backward()"
   ]
  },
  {
   "cell_type": "code",
   "execution_count": 174,
   "id": "86f47e2e-5b86-45e4-abdd-56611f10e41c",
   "metadata": {},
   "outputs": [
    {
     "data": {
      "text/plain": [
       "0.6138550006642206"
      ]
     },
     "execution_count": 174,
     "metadata": {},
     "output_type": "execute_result"
    }
   ],
   "source": [
    "n.layers[0].neurons[0].w[0].grad"
   ]
  },
  {
   "cell_type": "code",
   "execution_count": 175,
   "id": "e08f4145-62c6-48ad-a453-e0fd90300e99",
   "metadata": {},
   "outputs": [
    {
     "data": {
      "text/plain": [
       "0.24050515701139075"
      ]
     },
     "execution_count": 175,
     "metadata": {},
     "output_type": "execute_result"
    }
   ],
   "source": [
    "n.layers[0].neurons[0].w[0].data"
   ]
  },
  {
   "cell_type": "code",
   "execution_count": 245,
   "id": "55032549-f6cd-4c54-96b9-d7fc0c8b2fa1",
   "metadata": {},
   "outputs": [],
   "source": [
    "# gradient descent\n",
    "for p in n.parameters():\n",
    "    p.data += 0.1 * p.grad # \n",
    "# the gradient is a vector pointing in the direction of increasing the loss, so we want to go in the opposite direction, which is why 0.01 is negative"
   ]
  },
  {
   "cell_type": "code",
   "execution_count": 687,
   "id": "cc85914f-6e84-4a80-a3aa-79ab146986e9",
   "metadata": {},
   "outputs": [
    {
     "name": "stdout",
     "output_type": "stream",
     "text": [
      "0 0.00032322596593387944\n",
      "1 0.00032306695226960616\n",
      "2 0.0003229080924296258\n",
      "3 0.0003227493861922393\n",
      "4 0.00032259083333615804\n",
      "5 0.0003224324336405267\n",
      "6 0.0003222741868849146\n",
      "7 0.00032211609284929965\n",
      "8 0.00032195815131409874\n",
      "9 0.0003218003620601396\n",
      "10 0.000321642724868659\n",
      "11 0.0003214852395213222\n",
      "12 0.0003213279058002134\n",
      "13 0.00032117072348782045\n",
      "14 0.0003210136923670574\n",
      "15 0.00032085681222124\n",
      "16 0.00032070008283410697\n",
      "17 0.0003205435039898028\n",
      "18 0.00032038707547288146\n",
      "19 0.00032023079706831555\n"
     ]
    }
   ],
   "source": [
    "# training loop\n",
    "for k in range(20):\n",
    "\n",
    "    # forward pass\n",
    "    ypred = [n(x) for x in xs]\n",
    "    loss = sum((yout - ygt)**2 for ygt, yout in zip(ys, ypred))\n",
    "\n",
    "    #backward pass\n",
    "    for p in n.parameters():\n",
    "        p.grad = 0.0 \n",
    "        # we have to set grad to zero because we initially set self.grad in Value to 0 and the gradients propagate from that, so if we don't reset it to zero every time, the training steps will become excessively large\n",
    "    loss.backward()\n",
    "\n",
    "    # gradient descent\n",
    "    for p in n.parameters():\n",
    "        p.data += -0.05 * p.grad\n",
    "\n",
    "    print(k, loss.data)"
   ]
  },
  {
   "cell_type": "code",
   "execution_count": 688,
   "id": "307852b5-c2d4-4d8a-9f2f-17ec3a9acf0a",
   "metadata": {},
   "outputs": [
    {
     "data": {
      "text/plain": [
       "[Value(data=0.992164825791728),\n",
       " Value(data=-0.9898375631318539),\n",
       " Value(data=-0.9917238653107824),\n",
       " Value(data=0.9906687989143295)]"
      ]
     },
     "execution_count": 688,
     "metadata": {},
     "output_type": "execute_result"
    }
   ],
   "source": [
    "# output values\n",
    "ypred"
   ]
  }
 ],
 "metadata": {
  "kernelspec": {
   "display_name": "Python 3 (ipykernel)",
   "language": "python",
   "name": "python3"
  },
  "language_info": {
   "codemirror_mode": {
    "name": "ipython",
    "version": 3
   },
   "file_extension": ".py",
   "mimetype": "text/x-python",
   "name": "python",
   "nbconvert_exporter": "python",
   "pygments_lexer": "ipython3",
   "version": "3.12.3"
  }
 },
 "nbformat": 4,
 "nbformat_minor": 5
}
