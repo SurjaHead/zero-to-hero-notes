{
 "cells": [
  {
   "cell_type": "markdown",
   "id": "6d588dc0-4dcd-48b5-91f3-ca52eef11d9e",
   "metadata": {},
   "source": [
    "### makemore: part 5"
   ]
  },
  {
   "cell_type": "code",
   "execution_count": 2,
   "id": "fc17805d-6db5-4cde-a7f7-04d7b6ef5089",
   "metadata": {},
   "outputs": [],
   "source": [
    "import torch\n",
    "import torch.nn.functional as F\n",
    "import matplotlib.pyplot as plt # for making figures\n",
    "%matplotlib inline"
   ]
  },
  {
   "cell_type": "code",
   "execution_count": 3,
   "id": "af88d0df-4c98-4f5c-a9f7-866d34faf766",
   "metadata": {},
   "outputs": [
    {
     "name": "stdout",
     "output_type": "stream",
     "text": [
      "32033\n",
      "15\n"
     ]
    },
    {
     "data": {
      "text/plain": [
       "['emma', 'olivia', 'ava', 'isabella', 'sophia', 'charlotte', 'mia', 'amelia']"
      ]
     },
     "execution_count": 3,
     "metadata": {},
     "output_type": "execute_result"
    }
   ],
   "source": [
    "# read in all the words\n",
    "words = open('names.txt', 'r').read().splitlines()\n",
    "print(len(words))\n",
    "print(max(len(w) for w in words))\n",
    "words[:8]"
   ]
  },
  {
   "cell_type": "code",
   "execution_count": 4,
   "id": "82618932-12e7-4f9d-bf46-92579b8671b6",
   "metadata": {},
   "outputs": [
    {
     "name": "stdout",
     "output_type": "stream",
     "text": [
      "{1: 'a', 2: 'b', 3: 'c', 4: 'd', 5: 'e', 6: 'f', 7: 'g', 8: 'h', 9: 'i', 10: 'j', 11: 'k', 12: 'l', 13: 'm', 14: 'n', 15: 'o', 16: 'p', 17: 'q', 18: 'r', 19: 's', 20: 't', 21: 'u', 22: 'v', 23: 'w', 24: 'x', 25: 'y', 26: 'z', 0: '.'}\n",
      "27\n"
     ]
    }
   ],
   "source": [
    "# build the vocabulary of characters and mappings to/from integers\n",
    "\n",
    "chars = sorted(set(''.join(words)))\n",
    "stoi = {s:i+1 for i,s in enumerate(chars)}\n",
    "stoi['.'] = 0\n",
    "itos = {i:s for s,i in stoi.items()}\n",
    "vocab_size = len(itos)\n",
    "print(itos)\n",
    "print(vocab_size)"
   ]
  },
  {
   "cell_type": "code",
   "execution_count": 5,
   "id": "82281323-d4dd-4211-a706-82279a8fc929",
   "metadata": {},
   "outputs": [],
   "source": [
    "# sbuffle the words\n",
    "\n",
    "import random\n",
    "random.seed(42)\n",
    "random.shuffle(words)\n",
    "n1 = int(0.8*len(words))\n",
    "n2 = int(0.9*len(words))"
   ]
  },
  {
   "cell_type": "code",
   "execution_count": 6,
   "id": "6a5bed3e-4451-4eac-bc83-0e9e7ed7b535",
   "metadata": {},
   "outputs": [
    {
     "name": "stdout",
     "output_type": "stream",
     "text": [
      "torch.Size([182625, 3]) torch.Size([182625])\n",
      "torch.Size([22655, 3]) torch.Size([22655])\n",
      "torch.Size([22866, 3]) torch.Size([22866])\n"
     ]
    }
   ],
   "source": [
    "# build the dataset\n",
    "block_size = 3 # context length: how many characters do we take to predict the next one?\n",
    "\n",
    "def build_dataset(words):  \n",
    "  X, Y = [], []\n",
    "  \n",
    "  for w in words:\n",
    "    context = [0] * block_size\n",
    "    for ch in w + '.':\n",
    "      ix = stoi[ch]\n",
    "      X.append(context)\n",
    "      Y.append(ix)\n",
    "      context = context[1:] + [ix] # crop and append\n",
    "\n",
    "  X = torch.tensor(X)\n",
    "  Y = torch.tensor(Y)\n",
    "  print(X.shape, Y.shape)\n",
    "  return X, Y\n",
    "\n",
    "Xtr,  Ytr  = build_dataset(words[:n1])     # 80%\n",
    "Xdev, Ydev = build_dataset(words[n1:n2])   # 10%\n",
    "Xte,  Yte  = build_dataset(words[n2:])     # 10%"
   ]
  },
  {
   "cell_type": "code",
   "execution_count": 8,
   "id": "16a670de-e1d4-4b86-851b-be11cc95b30b",
   "metadata": {
    "scrolled": true
   },
   "outputs": [
    {
     "name": "stdout",
     "output_type": "stream",
     "text": [
      "... --> y\n",
      "..y --> u\n",
      ".yu --> h\n",
      "yuh --> e\n",
      "uhe --> n\n",
      "hen --> g\n",
      "eng --> .\n",
      "... --> d\n",
      "..d --> i\n",
      ".di --> o\n",
      "dio --> n\n",
      "ion --> d\n",
      "ond --> r\n",
      "ndr --> e\n",
      "dre --> .\n",
      "... --> x\n",
      "..x --> a\n",
      ".xa --> v\n",
      "xav --> i\n",
      "avi --> e\n"
     ]
    }
   ],
   "source": [
    "for x,y in zip(Xtr[:20], Ytr[:20]):\n",
    "    print(''.join(itos[ix.item()] for ix in x), '-->', itos[y.item()])"
   ]
  },
  {
   "cell_type": "code",
   "execution_count": 40,
   "id": "9d0c5031-20ad-43fc-b3b2-1bf80c250506",
   "metadata": {},
   "outputs": [],
   "source": [
    "class Linear: # modeled after torch.nn.Linear (in_features, out_features, bias=True, device=None, dtype=None) - we're omitting the last 2 paraneters\n",
    "    # default device is CPU, dtype is float32\n",
    "    def __init__(self, fan_in, fan_out, bias=True):\n",
    "        self.weight = torch.randn((fan_in, fan_out), generator=g) / fan_in**0.5 # second part is the kaiming initialization discussed earlier\n",
    "        self.bias = torch.zeros(fan_out) if bias else None\n",
    "        \n",
    "    def __call__(self, x):\n",
    "        self.out = x @ self.weight\n",
    "        if self.bias is not None:\n",
    "            self.out += self.bias\n",
    "        return self.out\n",
    "\n",
    "    def parameters(self):\n",
    "        return [self.weight] + ([] if self.bias is None else [self.bias])\n",
    "\n",
    "class BatchNorm1d: # modeled after torch.nn.BatchNorm1d(num_features, eps=1e-05, momentum=0.1, affine=True, track_running_stats=True, device=None, dtype=None)\n",
    "    def __init__(self, dim, eps=1e-5, momentum=0.1): # \n",
    "\n",
    "        # saving the values\n",
    "        self.eps = eps\n",
    "        self.momentum = momentum\n",
    "        self.training = True # we use this because during training, we use the batch mean and variance, whereas during inference we use the running values\n",
    "        \n",
    "        # parameters (trained with backprop)\n",
    "        \n",
    "        # affine=True in torch.nn.BatchNorm1d means we're using a gain and bias or gamma and beta, which we are below:\n",
    "        self.gamma = torch.ones(dim) # gain \n",
    "        self.beta = torch.zeros(dim) # bias\n",
    "        \n",
    "        # track_running_stats=True means we're keeping track of running mean and variance\n",
    "        # buffers (trained with a running 'momentum update')\n",
    "        self.running_mean = torch.zeros(dim)\n",
    "        self.running_var = torch.ones(dim) # running variance (std^2); we're using variance bc that's what used in the paper\n",
    "\n",
    "    def __call__(self, x):\n",
    "        # calculate the fwd pass\n",
    "        if self.training:\n",
    "            xmean = x.mean(0, keepdim=True) # batch mean\n",
    "            xvar = x.var(0, keepdim=True, unbiased=True) # batch variance\n",
    "        else:\n",
    "            xmean = self.running_mean\n",
    "            xvar = self.running_var\n",
    "        xhat = (x - xmean) / torch.sqrt(xvar + self.eps) # normalize to unit variance (this is the formula used in PyTorch)\n",
    "        self.out = self.gamma * xhat + self.beta # self.out is used here to keep track of the stats to graph them later, but it's not present in PT\n",
    "        # update the buffers\n",
    "        if self.training:\n",
    "            with torch.no_grad(): # tells PT to not keep track of the gradients, which makes it more efficient\n",
    "                self.running_mean = (1 - self.momentum) * self.running_mean + self.momentum * xmean \n",
    "                # this method of training used to update the buffer values is called exponential moving avg\n",
    "                self.running_var = (1 - self.momentum) * self.running_var + self.momentum * xvar\n",
    "        return self.out\n",
    "\n",
    "    def parameters(self):\n",
    "        return [self.gamma, self.beta]\n",
    "\n",
    "class Tanh:\n",
    "    def __call__(self, x):\n",
    "        self.out = torch.tanh(x)\n",
    "        return self.out\n",
    "    def parameters(self):\n",
    "        return[]"
   ]
  },
  {
   "cell_type": "code",
   "execution_count": null,
   "id": "606927d2-82a0-4b15-9a07-b8f844498e2d",
   "metadata": {},
   "outputs": [],
   "source": []
  },
  {
   "cell_type": "code",
   "execution_count": 41,
   "id": "5c231ada-4890-4ec6-a645-5e9189911925",
   "metadata": {},
   "outputs": [
    {
     "data": {
      "text/plain": [
       "<torch._C.Generator at 0x109ed0730>"
      ]
     },
     "execution_count": 41,
     "metadata": {},
     "output_type": "execute_result"
    }
   ],
   "source": [
    "torch.manual_seed(42)"
   ]
  },
  {
   "cell_type": "code",
   "execution_count": 14,
   "id": "4635875c-96c6-4c7d-92b6-38fe2c5af69b",
   "metadata": {},
   "outputs": [
    {
     "name": "stdout",
     "output_type": "stream",
     "text": [
      "12097\n"
     ]
    }
   ],
   "source": [
    "n_embd = 10 # dimentionality of the character embedding vectors\n",
    "n_hidden = 200 # number of neurons in the hidden layer of the MLP\n",
    "g = torch.Generator().manual_seed(2147483647) # for reproducibility\n",
    "\n",
    "C  = torch.randn((vocab_size, n_embd))\n",
    "layers = [\n",
    "  Linear(n_embd * block_size, n_hidden, bias=False), BatchNorm1d(n_hidden), Tanh(),\n",
    "  Linear(n_hidden, vocab_size),\n",
    "]\n",
    "with torch.no_grad():\n",
    "\n",
    "    # this section is the first change we made, where we squashed the weights of the last layer\n",
    "    # last layer: make less confident\n",
    "    # layers[-1].weight += 0.1 # since the last layer is a batchnorm layer, we want to change the gamma, which is essentially the weight because it's multiplied by the output of the previous layer\n",
    "    layers[-1].weight *= 0.1\n",
    "\n",
    "parameters = [C] + [p for layer in layers for p in layer.parameters()]\n",
    "print(sum(p.nelement() for p in parameters)) # of parameters in total\n",
    "for p in parameters:\n",
    "    p.requires_grad = True"
   ]
  },
  {
   "cell_type": "code",
   "execution_count": 16,
   "id": "11fef31a-e07a-47c2-a6da-d24801d5a7b6",
   "metadata": {},
   "outputs": [
    {
     "name": "stdout",
     "output_type": "stream",
     "text": [
      "      0/ 200000: 2.3204\n",
      "  10000/ 200000: 2.4029\n",
      "  20000/ 200000: 2.2609\n",
      "  30000/ 200000: 2.2126\n",
      "  40000/ 200000: 2.4049\n",
      "  50000/ 200000: 2.4264\n",
      "  60000/ 200000: 2.6779\n",
      "  70000/ 200000: 2.4182\n",
      "  80000/ 200000: 2.1344\n",
      "  90000/ 200000: 2.1335\n",
      " 100000/ 200000: 1.8149\n",
      " 110000/ 200000: 2.3402\n",
      " 120000/ 200000: 2.0808\n",
      " 130000/ 200000: 1.8054\n",
      " 140000/ 200000: 2.6695\n",
      " 150000/ 200000: 2.1113\n",
      " 160000/ 200000: 2.2653\n",
      " 170000/ 200000: 2.1328\n",
      " 180000/ 200000: 2.1159\n",
      " 190000/ 200000: 1.7268\n"
     ]
    }
   ],
   "source": [
    "# same optimization as last time\n",
    "max_steps = 200000\n",
    "batch_size = 32\n",
    "lossi = []\n",
    "ud = []\n",
    "\n",
    "for i in range(max_steps):\n",
    "  \n",
    "  # minibatch construct\n",
    "  ix = torch.randint(0, Xtr.shape[0], (batch_size,), generator=g)\n",
    "  Xb, Yb = Xtr[ix], Ytr[ix] # batch X,Y\n",
    "  \n",
    "  # forward pass\n",
    "  emb = C[Xb] # embed the characters into vectors\n",
    "  x = emb.view(emb.shape[0], -1) # concatenate the vectors\n",
    "  for layer in layers:\n",
    "    x = layer(x)\n",
    "  loss = F.cross_entropy(x, Yb) # loss function\n",
    "  \n",
    "  # backward pass\n",
    "  for layer in layers:\n",
    "    layer.out.retain_grad() # AFTER_DEBUG: would take out retain_graph\n",
    "  for p in parameters:\n",
    "    p.grad = None\n",
    "  loss.backward()\n",
    "  \n",
    "  # update\n",
    "  lr = 0.1 if i < 100000 else 0.01 # step learning rate decay\n",
    "  for p in parameters:\n",
    "    p.data += -lr * p.grad\n",
    "\n",
    "  # track stats\n",
    "  if i % 10000 == 0: # print every once in a while\n",
    "    print(f'{i:7d}/{max_steps:7d}: {loss.item():.4f}')\n",
    "  lossi.append(loss.log10().item())\n",
    "  with torch.no_grad():\n",
    "    ud.append([((lr*p.grad).std() / p.data.std()).log10().item() for p in parameters])\n",
    "\n",
    "  # if i >= 1000:\n",
    "  #     break # AFTER_DEBUG: would take out obviously to run full optimization"
   ]
  },
  {
   "cell_type": "code",
   "execution_count": 22,
   "id": "464d0496-7927-480a-b649-7e8d970a2103",
   "metadata": {},
   "outputs": [
    {
     "data": {
      "text/plain": [
       "200000"
      ]
     },
     "execution_count": 22,
     "metadata": {},
     "output_type": "execute_result"
    }
   ],
   "source": [
    "len(lossi)"
   ]
  },
  {
   "cell_type": "code",
   "execution_count": 17,
   "id": "eb865e46-4b24-4355-bf4d-e9854cbbaa07",
   "metadata": {},
   "outputs": [
    {
     "data": {
      "text/plain": [
       "[<matplotlib.lines.Line2D at 0x10fe2bf80>]"
      ]
     },
     "execution_count": 17,
     "metadata": {},
     "output_type": "execute_result"
    },
    {
     "data": {
      "image/png": "[encoded data removed]",
      "text/plain": [
       "<Figure size 640x480 with 1 Axes>"
      ]
     },
     "metadata": {},
     "output_type": "display_data"
    }
   ],
   "source": [
    "plt.plot(lossi)"
   ]
  },
  {
   "cell_type": "markdown",
   "id": "23375703-1be1-47a8-b084-431c9d5dc635",
   "metadata": {},
   "source": [
    "The graph above doesn't give us much info, as each lossi alternates between increasing and decreasing for each iteration. A better way to view this would be to take the mean across every few consecutive elements and plot that. "
   ]
  },
  {
   "cell_type": "code",
   "execution_count": 27,
   "id": "095106c8-04b9-458f-831f-80dacd544283",
   "metadata": {},
   "outputs": [
    {
     "data": {
      "text/plain": [
       "tensor([0.3786, 0.3721, 0.3690, 0.3657, 0.3620, 0.3603, 0.3585, 0.3544, 0.3580,\n",
       "        0.3570, 0.3527, 0.3514, 0.3507, 0.3503, 0.3518, 0.3477, 0.3481, 0.3470,\n",
       "        0.3475, 0.3475, 0.3437, 0.3429, 0.3480, 0.3434, 0.3446, 0.3439, 0.3438,\n",
       "        0.3434, 0.3433, 0.3430, 0.3427, 0.3399, 0.3435, 0.3389, 0.3404, 0.3401,\n",
       "        0.3405, 0.3417, 0.3417, 0.3398, 0.3380, 0.3396, 0.3356, 0.3407, 0.3376,\n",
       "        0.3375, 0.3390, 0.3401, 0.3384, 0.3380, 0.3399, 0.3393, 0.3360, 0.3347,\n",
       "        0.3385, 0.3384, 0.3390, 0.3369, 0.3384, 0.3373, 0.3377, 0.3331, 0.3346,\n",
       "        0.3351, 0.3375, 0.3362, 0.3368, 0.3382, 0.3373, 0.3329, 0.3363, 0.3356,\n",
       "        0.3366, 0.3362, 0.3346, 0.3360, 0.3352, 0.3351, 0.3351, 0.3365, 0.3353,\n",
       "        0.3342, 0.3334, 0.3336, 0.3341, 0.3346, 0.3358, 0.3356, 0.3344, 0.3340,\n",
       "        0.3351, 0.3358, 0.3355, 0.3332, 0.3347, 0.3351, 0.3331, 0.3345, 0.3310,\n",
       "        0.3359, 0.3243, 0.3210, 0.3190, 0.3238, 0.3216, 0.3210, 0.3205, 0.3193,\n",
       "        0.3219, 0.3203, 0.3215, 0.3196, 0.3239, 0.3201, 0.3202, 0.3214, 0.3207,\n",
       "        0.3223, 0.3190, 0.3205, 0.3204, 0.3207, 0.3178, 0.3208, 0.3193, 0.3193,\n",
       "        0.3207, 0.3190, 0.3215, 0.3214, 0.3200, 0.3195, 0.3200, 0.3192, 0.3180,\n",
       "        0.3205, 0.3200, 0.3230, 0.3200, 0.3203, 0.3185, 0.3201, 0.3202, 0.3200,\n",
       "        0.3194, 0.3180, 0.3204, 0.3215, 0.3213, 0.3203, 0.3204, 0.3198, 0.3175,\n",
       "        0.3206, 0.3166, 0.3190, 0.3190, 0.3169, 0.3180, 0.3185, 0.3185, 0.3207,\n",
       "        0.3202, 0.3183, 0.3186, 0.3186, 0.3205, 0.3169, 0.3178, 0.3217, 0.3198,\n",
       "        0.3191, 0.3195, 0.3177, 0.3182, 0.3184, 0.3154, 0.3195, 0.3185, 0.3167,\n",
       "        0.3180, 0.3193, 0.3196, 0.3160, 0.3191, 0.3181, 0.3189, 0.3181, 0.3193,\n",
       "        0.3178, 0.3181, 0.3175, 0.3156, 0.3173, 0.3184, 0.3208, 0.3174, 0.3180,\n",
       "        0.3184, 0.3191])"
      ]
     },
     "execution_count": 27,
     "metadata": {},
     "output_type": "execute_result"
    }
   ],
   "source": [
    "torch.tensor(lossi).view((-1, 1000)).mean(1) # allows us to plot the means of every 1000 elements"
   ]
  },
  {
   "cell_type": "markdown",
   "id": "5cf1a526-ec14-49c0-ad50-8ff565fde151",
   "metadata": {},
   "source": [
    "Above, we changed the shape of the tensor to (200, 1000), which allows us to mean across the rows to take the mean of every 1000 elements and plot those 200 values instead of plotting every single value. \n",
    "\n",
    "As we can see below, this gives a much more valuable and readable graph. The dip in the graph is the learning rate decay, which allowed us to set into a local minumum."
   ]
  },
  {
   "cell_type": "code",
   "execution_count": 29,
   "id": "be5f48a9-ca45-4d93-9116-8c11fc58f58d",
   "metadata": {},
   "outputs": [
    {
     "data": {
      "text/plain": [
       "[<matplotlib.lines.Line2D at 0x118bf7890>]"
      ]
     },
     "execution_count": 29,
     "metadata": {},
     "output_type": "execute_result"
    },
    {
     "data": {
      "image/png": "[encoded data removed]",
      "text/plain": [
       "<Figure size 640x480 with 1 Axes>"
      ]
     },
     "metadata": {},
     "output_type": "display_data"
    }
   ],
   "source": [
    "plt.plot(torch.tensor(lossi).view((-1, 1000)).mean(1))"
   ]
  },
  {
   "cell_type": "markdown",
   "id": "4d0d4fc4-7e42-46fd-88c2-f766eb2d9b16",
   "metadata": {},
   "source": [
    "**Creating layers for embedding and flattening methods:**\n",
    "\n",
    "Notice how the embedding and flattening (emb.view) operations are outside of the layers - we should create layers for those too. In addition, PyTorch has methods to create lists, dictionaries, or other data types out of layers; the one to create a list is called Sequential, which we'll also implement."
   ]
  },
  {
   "cell_type": "code",
   "execution_count": 68,
   "id": "2505f79d-0692-4b59-83a8-31b81451d719",
   "metadata": {},
   "outputs": [],
   "source": [
    "class Embedding:\n",
    "    def __init__(self, num_embeddings, embedding_dim):\n",
    "        self.weight = torch.randn((num_embeddings, embedding_dim))\n",
    "    def __call__(self, IX):\n",
    "        self.out = self.weight[IX]\n",
    "        return self.out\n",
    "    def parameters(self):\n",
    "        return [self.weight]\n",
    "\n",
    "class Flatten:\n",
    "    def __call__(self, x):\n",
    "        self.out = x.view(x.shape[0], -1)\n",
    "        return self.out\n",
    "\n",
    "    def parameters(self):\n",
    "        return []\n",
    "    \n",
    "class Sequential:\n",
    "    def __init__(self, layers):\n",
    "        self.layers = layers\n",
    "\n",
    "    def __call__(self, x):\n",
    "        for layer in self.layers:\n",
    "            x = layer(x)\n",
    "        self.out = x\n",
    "        return self.out\n",
    "    def parameters(self):\n",
    "     return [p for layer in self.layers for p in layer.parameters()]\n",
    "        "
   ]
  },
  {
   "cell_type": "code",
   "execution_count": 69,
   "id": "82f45b07-4d80-43b2-b5f4-933b92406aa0",
   "metadata": {},
   "outputs": [
    {
     "name": "stdout",
     "output_type": "stream",
     "text": [
      "12097\n"
     ]
    }
   ],
   "source": [
    "n_embd = 10 # dimentionality of the character embedding vectors\n",
    "n_hidden = 200 # number of neurons in the hidden layer of the MLP\n",
    "g = torch.Generator().manual_seed(2147483647) # for reproducibility\n",
    "\n",
    "# removed the C = torch.randn() and layers definition\n",
    "model = Sequential([\n",
    "  Embedding(vocab_size, n_embd),\n",
    "  Flatten(),\n",
    "  Linear(n_embd * block_size, n_hidden, bias=False), BatchNorm1d(n_hidden), Tanh(),\n",
    "  Linear(n_hidden, vocab_size),\n",
    "])\n",
    "with torch.no_grad():\n",
    "    layers[-1].weight *= 0.1\n",
    "\n",
    "parameters = model.parameters() # removed the [C] + [p for ...]\n",
    "print(sum(p.nelement() for p in parameters)) # of parameters in total\n",
    "for p in parameters:\n",
    "    p.requires_grad = True"
   ]
  },
  {
   "cell_type": "code",
   "execution_count": 70,
   "id": "c550dd53-5b3c-43db-92a2-accdae96f9dc",
   "metadata": {},
   "outputs": [
    {
     "name": "stdout",
     "output_type": "stream",
     "text": [
      "      0/ 200000: 3.2798\n",
      "  10000/ 200000: 2.4363\n",
      "  20000/ 200000: 2.2806\n",
      "  30000/ 200000: 2.4507\n",
      "  40000/ 200000: 2.3296\n",
      "  50000/ 200000: 2.2583\n",
      "  60000/ 200000: 2.3216\n",
      "  70000/ 200000: 2.0487\n",
      "  80000/ 200000: 2.3932\n",
      "  90000/ 200000: 2.3266\n",
      " 100000/ 200000: 2.5826\n",
      " 110000/ 200000: 1.8778\n",
      " 120000/ 200000: 2.2689\n",
      " 130000/ 200000: 2.4382\n",
      " 140000/ 200000: 2.2319\n",
      " 150000/ 200000: 2.4896\n",
      " 160000/ 200000: 2.5729\n",
      " 170000/ 200000: 2.1977\n",
      " 180000/ 200000: 2.1830\n",
      " 190000/ 200000: 1.9904\n"
     ]
    }
   ],
   "source": [
    "# same optimization as last time\n",
    "max_steps = 200000\n",
    "batch_size = 32\n",
    "lossi = []\n",
    "ud = []\n",
    "\n",
    "for i in range(max_steps):\n",
    "  \n",
    "  # minibatch construct\n",
    "  ix = torch.randint(0, Xtr.shape[0], (batch_size,), generator=g)\n",
    "  Xb, Yb = Xtr[ix], Ytr[ix] # batch X,Y\n",
    "  \n",
    "  # forward pass\n",
    "  # x = Xb # removed the embedding steps\n",
    "  # for layer in layers:\n",
    "  #   x = layer(x)\n",
    "  logits = model(Xb)\n",
    "  loss = F.cross_entropy(logits, Yb) # loss function\n",
    "  \n",
    "  # backward pass\n",
    "  for layer in layers:\n",
    "    layer.out.retain_grad() # AFTER_DEBUG: would take out retain_graph\n",
    "  for p in parameters:\n",
    "    p.grad = None\n",
    "  loss.backward()\n",
    "  \n",
    "  # update\n",
    "  lr = 0.1 if i < 100000 else 0.01 # step learning rate decay\n",
    "  for p in parameters:\n",
    "    p.data += -lr * p.grad\n",
    "\n",
    "  # track stats\n",
    "  if i % 10000 == 0: # print every once in a while\n",
    "    print(f'{i:7d}/{max_steps:7d}: {loss.item():.4f}')\n",
    "  lossi.append(loss.log10().item())\n",
    "  with torch.no_grad():\n",
    "    ud.append([((lr*p.grad).std() / p.data.std()).log10().item() for p in parameters])"
   ]
  },
  {
   "cell_type": "code",
   "execution_count": 71,
   "id": "44e30167-f27b-4afc-b95a-cff6c24f273f",
   "metadata": {},
   "outputs": [],
   "source": [
    "for layer in model.layers:\n",
    "    layer.training = False"
   ]
  },
  {
   "cell_type": "code",
   "execution_count": 72,
   "id": "826e8b32-bc11-43e5-b722-ef34bf28dc84",
   "metadata": {},
   "outputs": [
    {
     "name": "stdout",
     "output_type": "stream",
     "text": [
      "train 2.0660974979400635\n",
      "val 2.111114025115967\n"
     ]
    }
   ],
   "source": [
    "@torch.no_grad() # this decorator disables gradient tracking\n",
    "\n",
    "def split_loss(split):\n",
    "    x,y = {\n",
    "        'train': (Xtr, Ytr),\n",
    "        'val': (Xdev, Ydev),\n",
    "        'test': (Xte, Yte),\n",
    "    }[split]\n",
    "    logits = model(x)\n",
    "    loss = F.cross_entropy(logits, y)\n",
    "    print(split, loss.item())\n",
    "\n",
    "split_loss('train')\n",
    "split_loss('val')"
   ]
  },
  {
   "cell_type": "code",
   "execution_count": 73,
   "id": "8457594a-fa5c-4d95-9358-24411a26243b",
   "metadata": {},
   "outputs": [
    {
     "name": "stdout",
     "output_type": "stream",
     "text": [
      "raylee.\n",
      "eveomarhithi.\n",
      "danakinn.\n",
      "dayanleighleea.\n",
      "marzely.\n",
      "fatykody.\n",
      "akeen.\n",
      "gavliigatlyn.\n",
      "lyn.\n",
      "laan.\n",
      "rayiah.\n",
      "azlarittie.\n",
      "aymougiuss.\n",
      "jail.\n",
      "yuline.\n",
      "magani.\n",
      "amareeth.\n",
      "healaat.\n",
      "zamira.\n",
      "bharmanra.\n"
     ]
    }
   ],
   "source": [
    "# sample from the model\n",
    "g = torch.Generator().manual_seed(2147483647 + 10)\n",
    "\n",
    "for _ in range(20):\n",
    "\n",
    "    out = []\n",
    "    context = [0] * block_size # initialize with all ...\n",
    "    while True:\n",
    "      logits = model(torch.tensor([context]))\n",
    "      probs = F.softmax(logits, dim=1)\n",
    "      ix = torch.multinomial(probs, num_samples=1).item()\n",
    "      context = context[1:] + [ix]\n",
    "      out.append(ix)\n",
    "      if ix == 0:\n",
    "        break\n",
    "\n",
    "    print(''.join(itos[i] for i in out))"
   ]
  },
  {
   "cell_type": "markdown",
   "id": "2083f895-b6d7-4db6-855e-aa5e3e3d864b",
   "metadata": {},
   "source": [
    "### \n",
    "WaveNet Implementation\n",
    "\n",
    "Since the train loss and validation loss are fairly similar, we can see that we are not overfitting and that we can safely expand the network to make it larger and deeper. \n",
    "\n",
    "One way we could do this is by adding more hidden layers, but that wont fix the biggest bottleneck right now, which is squashing all of the inputs in a single layer. It would be better if we could slowly fuse the inputs into an embedding rather than squashing them all in one layer. \n",
    "\n",
    "A good implementation of this is the WaveNet model:\n",
    "![title](wavenet.png)\n",
    "\n",
    "Notice how it slowly squashes the characters into bigrams, then bigrams into quadgrams, followed by quadgrams into octograms, etc.\n",
    "\n",
    "First thing we can change is the blocksize:"
   ]
  },
  {
   "cell_type": "code",
   "execution_count": 74,
   "id": "357c120b-085d-4a3c-8750-ea9ce3a521ef",
   "metadata": {},
   "outputs": [
    {
     "name": "stdout",
     "output_type": "stream",
     "text": [
      "torch.Size([182625, 8]) torch.Size([182625])\n",
      "torch.Size([22655, 8]) torch.Size([22655])\n",
      "torch.Size([22866, 8]) torch.Size([22866])\n"
     ]
    }
   ],
   "source": [
    "# build the dataset\n",
    "block_size = 8 # change context length to 8 \n",
    "\n",
    "def build_dataset(words):  \n",
    "  X, Y = [], []\n",
    "  \n",
    "  for w in words:\n",
    "    context = [0] * block_size\n",
    "    for ch in w + '.':\n",
    "      ix = stoi[ch]\n",
    "      X.append(context)\n",
    "      Y.append(ix)\n",
    "      context = context[1:] + [ix] # crop and append\n",
    "\n",
    "  X = torch.tensor(X)\n",
    "  Y = torch.tensor(Y)\n",
    "  print(X.shape, Y.shape)\n",
    "  return X, Y\n",
    "\n",
    "Xtr,  Ytr  = build_dataset(words[:n1])     # 80%\n",
    "Xdev, Ydev = build_dataset(words[n1:n2])   # 10%\n",
    "Xte,  Yte  = build_dataset(words[n2:])     # 10%"
   ]
  },
  {
   "cell_type": "code",
   "execution_count": 75,
   "id": "09660211-93b3-4115-a549-21480bb139ca",
   "metadata": {},
   "outputs": [
    {
     "name": "stdout",
     "output_type": "stream",
     "text": [
      "........ --> y\n",
      ".......y --> u\n",
      "......yu --> h\n",
      ".....yuh --> e\n",
      "....yuhe --> n\n",
      "...yuhen --> g\n",
      "..yuheng --> .\n",
      "........ --> d\n",
      ".......d --> i\n",
      "......di --> o\n",
      ".....dio --> n\n",
      "....dion --> d\n",
      "...diond --> r\n",
      "..diondr --> e\n",
      ".diondre --> .\n",
      "........ --> x\n",
      ".......x --> a\n",
      "......xa --> v\n",
      ".....xav --> i\n",
      "....xavi --> e\n"
     ]
    }
   ],
   "source": [
    "for x,y in zip(Xtr[:20], Ytr[:20]):\n",
    "    print(''.join(itos[ix.item()] for ix in x), '-->', itos[y.item()])"
   ]
  },
  {
   "cell_type": "code",
   "execution_count": 79,
   "id": "399370d2-ea72-40d1-a190-2273c15ae578",
   "metadata": {},
   "outputs": [
    {
     "name": "stdout",
     "output_type": "stream",
     "text": [
      "22097\n"
     ]
    }
   ],
   "source": [
    "n_embd = 10 # dimentionality of the character embedding vectors\n",
    "n_hidden = 200 # number of neurons in the hidden layer of the MLP\n",
    "g = torch.Generator().manual_seed(2147483647) # for reproducibility\n",
    "\n",
    "# removed the C = torch.randn() and layers definition\n",
    "model = Sequential([\n",
    "  Embedding(vocab_size, n_embd),\n",
    "  Flatten(),\n",
    "  Linear(n_embd * block_size, n_hidden, bias=False), BatchNorm1d(n_hidden), Tanh(),\n",
    "  Linear(n_hidden, vocab_size),\n",
    "])\n",
    "with torch.no_grad():\n",
    "    layers[-1].weight *= 0.1\n",
    "\n",
    "parameters = model.paarameters() # removed the [C] + [p for ...]\n",
    "print(sum(p.nelement() for p in parameters)) # of parameters in total\n",
    "for p in parameters:\n",
    "    p.requires_grad = True"
   ]
  },
  {
   "cell_type": "code",
   "execution_count": 80,
   "id": "bb4ad6a6-5810-4620-9911-0efdb16a5b7e",
   "metadata": {},
   "outputs": [
    {
     "name": "stdout",
     "output_type": "stream",
     "text": [
      "      0/ 200000: 3.6211\n",
      "  10000/ 200000: 2.4444\n",
      "  20000/ 200000: 2.3995\n",
      "  30000/ 200000: 1.8001\n",
      "  40000/ 200000: 2.0889\n",
      "  50000/ 200000: 2.1323\n",
      "  60000/ 200000: 2.4618\n",
      "  70000/ 200000: 2.0345\n",
      "  80000/ 200000: 1.6695\n",
      "  90000/ 200000: 2.0854\n",
      " 100000/ 200000: 1.9911\n",
      " 110000/ 200000: 1.8938\n",
      " 120000/ 200000: 1.8093\n",
      " 130000/ 200000: 2.0852\n",
      " 140000/ 200000: 1.8769\n",
      " 150000/ 200000: 2.1835\n",
      " 160000/ 200000: 1.7586\n",
      " 170000/ 200000: 2.0277\n",
      " 180000/ 200000: 1.6878\n",
      " 190000/ 200000: 2.2097\n"
     ]
    }
   ],
   "source": [
    "# same optimization as last time\n",
    "max_steps = 200000\n",
    "batch_size = 32\n",
    "lossi = []\n",
    "ud = []\n",
    "\n",
    "for i in range(max_steps):\n",
    "  \n",
    "  # minibatch construct\n",
    "  ix = torch.randint(0, Xtr.shape[0], (batch_size,), generator=g)\n",
    "  Xb, Yb = Xtr[ix], Ytr[ix] # batch X,Y\n",
    "  \n",
    "  # forward pass\n",
    "  # x = Xb # removed the embedding steps\n",
    "  # for layer in layers:\n",
    "  #   x = layer(x)\n",
    "  logits = model(Xb)\n",
    "  loss = F.cross_entropy(logits, Yb) # loss function\n",
    "  \n",
    "  # backward pass\n",
    "  for layer in layers:\n",
    "    layer.out.retain_grad() # AFTER_DEBUG: would take out retain_graph\n",
    "  for p in parameters:\n",
    "    p.grad = None\n",
    "  loss.backward()\n",
    "  \n",
    "  # update\n",
    "  lr = 0.1 if i < 100000 else 0.01 # step learning rate decay\n",
    "  for p in parameters:\n",
    "    p.data += -lr * p.grad\n",
    "\n",
    "  # track stats\n",
    "  if i % 10000 == 0: # print every once in a while\n",
    "    print(f'{i:7d}/{max_steps:7d}: {loss.item():.4f}')\n",
    "  lossi.append(loss.log10().item())\n",
    "  with torch.no_grad():\n",
    "    ud.append([((lr*p.grad).std() / p.data.std()).log10().item() for p in parameters])"
   ]
  },
  {
   "cell_type": "code",
   "execution_count": 81,
   "id": "d1321b87-5d04-442e-9619-7cc650f15ebe",
   "metadata": {},
   "outputs": [
    {
     "name": "stdout",
     "output_type": "stream",
     "text": [
      "train 1.9257512092590332\n",
      "val 2.0314769744873047\n"
     ]
    }
   ],
   "source": [
    "@torch.no_grad() # this decorator disables gradient tracking\n",
    "\n",
    "def split_loss(split):\n",
    "    x,y = {\n",
    "        'train': (Xtr, Ytr),\n",
    "        'val': (Xdev, Ydev),\n",
    "        'test': (Xte, Yte),\n",
    "    }[split]\n",
    "    logits = model(x)\n",
    "    loss = F.cross_entropy(logits, y)\n",
    "    print(split, loss.item())\n",
    "\n",
    "split_loss('train')\n",
    "split_loss('val')"
   ]
  },
  {
   "cell_type": "markdown",
   "id": "cb8e850a-a809-44b4-b6f1-cdbbe8a08ce1",
   "metadata": {},
   "source": [
    "Notice how the train and val losses already improved a noticeable amount just by increase the context length. However, we're still crushing too much data too quickly. Regardless, this is still a good rough baseline to compare with the WaveNet implementation."
   ]
  },
  {
   "cell_type": "markdown",
   "id": "be7e7fb7-3e9a-4d69-af1f-a2e26df41d61",
   "metadata": {},
   "source": [
    "Changing Layer Dimensions:"
   ]
  },
  {
   "cell_type": "code",
   "execution_count": 83,
   "id": "d99f3f19-9d50-4716-b123-1263d541ff83",
   "metadata": {},
   "outputs": [
    {
     "name": "stdout",
     "output_type": "stream",
     "text": [
      "torch.Size([4, 8])\n"
     ]
    },
    {
     "data": {
      "text/plain": [
       "tensor([[ 0,  0,  0,  0,  3,  1, 12,  5],\n",
       "        [ 0,  0,  0,  0,  0,  0,  0,  9],\n",
       "        [ 0,  0,  0,  0,  0,  0, 13, 15],\n",
       "        [ 0,  0,  0,  0,  0,  0,  0,  1]])"
      ]
     },
     "execution_count": 83,
     "metadata": {},
     "output_type": "execute_result"
    }
   ],
   "source": [
    "ix = torch.randint(0, Xtr.shape[0], (4,))\n",
    "Xb, Yb = Xtr[ix], Ytr[ix]\n",
    "logits = model(Xb)\n",
    "print(Xb.shape)\n",
    "Xb"
   ]
  },
  {
   "cell_type": "code",
   "execution_count": 84,
   "id": "47271761-c7b8-4c32-9273-69f5bdd17d91",
   "metadata": {},
   "outputs": [
    {
     "data": {
      "text/plain": [
       "torch.Size([4, 8, 10])"
      ]
     },
     "execution_count": 84,
     "metadata": {},
     "output_type": "execute_result"
    }
   ],
   "source": [
    "model.layers[0].out.shape # output of embedding layer"
   ]
  },
  {
   "cell_type": "code",
   "execution_count": 85,
   "id": "770a71c6-94da-400b-9470-44af41ddebe0",
   "metadata": {},
   "outputs": [
    {
     "data": {
      "text/plain": [
       "torch.Size([4, 80])"
      ]
     },
     "execution_count": 85,
     "metadata": {},
     "output_type": "execute_result"
    }
   ],
   "source": [
    "model.layers[1].out.shape # output of flatten layer"
   ]
  },
  {
   "cell_type": "code",
   "execution_count": 86,
   "id": "4e8d7852-f975-40fa-be6d-6b8bb0103f5f",
   "metadata": {},
   "outputs": [
    {
     "data": {
      "text/plain": [
       "torch.Size([4, 200])"
      ]
     },
     "execution_count": 86,
     "metadata": {},
     "output_type": "execute_result"
    }
   ],
   "source": [
    "model.layers[2].out.shape # output of linear layer"
   ]
  },
  {
   "cell_type": "code",
   "execution_count": 90,
   "id": "4f660efa-5a68-4a02-974a-cebbf1286124",
   "metadata": {},
   "outputs": [
    {
     "data": {
      "text/plain": [
       "torch.Size([4, 200])"
      ]
     },
     "execution_count": 90,
     "metadata": {},
     "output_type": "execute_result"
    }
   ],
   "source": [
    "(torch.randn(4, 80) @ torch.randn(80, 200) + torch.randn(200)).shape"
   ]
  },
  {
   "cell_type": "markdown",
   "id": "8f0f7b20-b560-4140-848a-323a4ac37069",
   "metadata": {},
   "source": [
    "Matmul in pytorch allows us to have an n number of dimensions , as it only multiplies the last dimension as seen below:"
   ]
  },
  {
   "cell_type": "code",
   "execution_count": 89,
   "id": "f39c9275-8731-4f40-a8e8-732a7039b6eb",
   "metadata": {},
   "outputs": [
    {
     "data": {
      "text/plain": [
       "torch.Size([4, 5, 6, 200])"
      ]
     },
     "execution_count": 89,
     "metadata": {},
     "output_type": "execute_result"
    }
   ],
   "source": [
    "(torch.randn(4, 5, 6, 80) @ torch.randn(80, 200) + torch.randn(200)).shape"
   ]
  },
  {
   "cell_type": "markdown",
   "id": "69b8e730-72db-4759-8f98-eca64be29e0d",
   "metadata": {},
   "source": [
    "What we want to do now is to group evvery 2 characters and pass them in together as such:\n",
    "\n",
    "(1 2) (3 4) (5 6) (7 8)\n",
    "\n",
    "Therefore, we want to change adjust our matmul as such:\n",
    "\n",
    "(4, 80) --> (4, 4, 20) we're changing the 8 individual characters to groups of 2 characters\n",
    "\n",
    "(80, 200) --> (20, 200) since we want 2 characters at a time and to match the last dimension of the prev layer\n",
    "\n",
    "We also want to adjust the flatten layer to return (4, 4, 20):\n",
    "\n"
   ]
  },
  {
   "cell_type": "code",
   "execution_count": null,
   "id": "564247b8-0db4-4656-85c7-5353bf90bafd",
   "metadata": {},
   "outputs": [],
   "source": [
    "class FlattenConsecutive:\n",
    "    def __init__(self, n):\n",
    "        self.n = n\n",
    "        \n",
    "    def __call__(self, x):\n",
    "        B, T, C = x.shape\n",
    "        x = x.view(B, T//self.n, C*self.n)\n",
    "        if x.shape[1] == 1:\n",
    "            x = x.squeeze(1)\n",
    "        self.out = x.view(x.shape[0], -1)\n",
    "        return self.out\n",
    "\n",
    "    def parameters(self):\n",
    "        return []\n"
   ]
  },
  {
   "cell_type": "markdown",
   "id": "e336e9f1-f151-41bd-ba62-d894e6588e7c",
   "metadata": {},
   "source": [
    "### Final Implementation"
   ]
  },
  {
   "cell_type": "code",
   "execution_count": 114,
   "id": "975333fe-fc4d-4c97-bac6-2a5d283701b3",
   "metadata": {},
   "outputs": [],
   "source": [
    "# Near copy paste of the layers we have developed in Part 3\n",
    "\n",
    "# -----------------------------------------------------------------------------------------------\n",
    "class Linear:\n",
    "  \n",
    "  def __init__(self, fan_in, fan_out, bias=True):\n",
    "    self.weight = torch.randn((fan_in, fan_out)) / fan_in**0.5 # note: kaiming init\n",
    "    self.bias = torch.zeros(fan_out) if bias else None\n",
    "  \n",
    "  def __call__(self, x):\n",
    "    self.out = x @ self.weight\n",
    "    if self.bias is not None:\n",
    "      self.out += self.bias\n",
    "    return self.out\n",
    "  \n",
    "  def parameters(self):\n",
    "    return [self.weight] + ([] if self.bias is None else [self.bias])\n",
    "\n",
    "# -----------------------------------------------------------------------------------------------\n",
    "class BatchNorm1d:\n",
    "  \n",
    "  def __init__(self, dim, eps=1e-5, momentum=0.1):\n",
    "    self.eps = eps\n",
    "    self.momentum = momentum\n",
    "    self.training = True\n",
    "    # parameters (trained with backprop)\n",
    "    self.gamma = torch.ones(dim)\n",
    "    self.beta = torch.zeros(dim)\n",
    "    # buffers (trained with a running 'momentum update')\n",
    "    self.running_mean = torch.zeros(dim)\n",
    "    self.running_var = torch.ones(dim)\n",
    "  \n",
    "  def __call__(self, x):\n",
    "    # calculate the forward pass\n",
    "    if self.training:\n",
    "      if x.ndim == 2:\n",
    "        dim = 0\n",
    "      elif x.ndim == 3:\n",
    "        dim = (0,1)\n",
    "      xmean = x.mean(dim, keepdim=True) # batch mean\n",
    "      xvar = x.var(dim, keepdim=True) # batch variance\n",
    "    else:\n",
    "      xmean = self.running_mean\n",
    "      xvar = self.running_var\n",
    "    xhat = (x - xmean) / torch.sqrt(xvar + self.eps) # normalize to unit variance\n",
    "    self.out = self.gamma * xhat + self.beta\n",
    "    # update the buffers\n",
    "    if self.training:\n",
    "      with torch.no_grad():\n",
    "        self.running_mean = (1 - self.momentum) * self.running_mean + self.momentum * xmean\n",
    "        self.running_var = (1 - self.momentum) * self.running_var + self.momentum * xvar\n",
    "    return self.out\n",
    "  \n",
    "  def parameters(self):\n",
    "    return [self.gamma, self.beta]\n",
    "\n",
    "# -----------------------------------------------------------------------------------------------\n",
    "class Tanh:\n",
    "  def __call__(self, x):\n",
    "    self.out = torch.tanh(x)\n",
    "    return self.out\n",
    "  def parameters(self):\n",
    "    return []\n",
    "\n",
    "# -----------------------------------------------------------------------------------------------\n",
    "class Embedding:\n",
    "  \n",
    "  def __init__(self, num_embeddings, embedding_dim):\n",
    "    self.weight = torch.randn((num_embeddings, embedding_dim))\n",
    "    \n",
    "  def __call__(self, IX):\n",
    "    self.out = self.weight[IX]\n",
    "    return self.out\n",
    "  \n",
    "  def parameters(self):\n",
    "    return [self.weight]\n",
    "\n",
    "# -----------------------------------------------------------------------------------------------\n",
    "class FlattenConsecutive:\n",
    "  \n",
    "  def __init__(self, n):\n",
    "    self.n = n\n",
    "    \n",
    "  def __call__(self, x):\n",
    "    B, T, C = x.shape\n",
    "    x = x.view(B, T//self.n, C*self.n)\n",
    "    if x.shape[1] == 1:\n",
    "      x = x.squeeze(1)\n",
    "    self.out = x\n",
    "    return self.out\n",
    "  \n",
    "  def parameters(self):\n",
    "    return []\n",
    "\n",
    "# -----------------------------------------------------------------------------------------------\n",
    "class Sequential:\n",
    "  \n",
    "  def __init__(self, layers):\n",
    "    self.layers = layers\n",
    "  \n",
    "  def __call__(self, x):\n",
    "    for layer in self.layers:\n",
    "      x = layer(x)\n",
    "    self.out = x\n",
    "    return self.out\n",
    "  \n",
    "  def parameters(self):\n",
    "    # get parameters of all layers and stretch them out into one list\n",
    "    return [p for layer in self.layers for p in layer.parameters()]"
   ]
  },
  {
   "cell_type": "code",
   "execution_count": 115,
   "id": "b6fe8b57-e3cd-43cb-b70f-c12fb0f5a485",
   "metadata": {},
   "outputs": [
    {
     "name": "stdout",
     "output_type": "stream",
     "text": [
      "76579\n"
     ]
    }
   ],
   "source": [
    "# original network\n",
    "# n_embd = 10 # the dimensionality of the character embedding vectors\n",
    "# n_hidden = 300 # the number of neurons in the hidden layer of the MLP\n",
    "# model = Sequential([\n",
    "#   Embedding(vocab_size, n_embd),\n",
    "#   FlattenConsecutive(8), Linear(n_embd * 8, n_hidden, bias=False), BatchNorm1d(n_hidden), Tanh(),\n",
    "#   Linear(n_hidden, vocab_size),\n",
    "# ])\n",
    "\n",
    "# hierarchical network\n",
    "n_embd = 24 # the dimensionality of the character embedding vectors\n",
    "n_hidden = 128 # the number of neurons in the hidden layer of the MLP\n",
    "model = Sequential([\n",
    "  Embedding(vocab_size, n_embd),\n",
    "  FlattenConsecutive(2), Linear(n_embd * 2, n_hidden, bias=False), BatchNorm1d(n_hidden), Tanh(),\n",
    "  FlattenConsecutive(2), Linear(n_hidden*2, n_hidden, bias=False), BatchNorm1d(n_hidden), Tanh(),\n",
    "  FlattenConsecutive(2), Linear(n_hidden*2, n_hidden, bias=False), BatchNorm1d(n_hidden), Tanh(),\n",
    "  Linear(n_hidden, vocab_size),\n",
    "])\n",
    "\n",
    "# parameter init\n",
    "with torch.no_grad():\n",
    "  model.layers[-1].weight *= 0.1 # last layer make less confident\n",
    "\n",
    "parameters = model.parameters()\n",
    "print(sum(p.nelement() for p in parameters)) # number of parameters in total\n",
    "for p in parameters:\n",
    "  p.requires_grad = True"
   ]
  },
  {
   "cell_type": "code",
   "execution_count": 116,
   "id": "fbf494aa-bc37-42de-8a7e-acee59743eba",
   "metadata": {},
   "outputs": [
    {
     "name": "stdout",
     "output_type": "stream",
     "text": [
      "      0/ 200000: 3.2768\n",
      "  10000/ 200000: 1.9790\n",
      "  20000/ 200000: 2.0037\n",
      "  30000/ 200000: 2.0101\n",
      "  40000/ 200000: 2.0484\n",
      "  50000/ 200000: 2.5808\n",
      "  60000/ 200000: 2.1166\n",
      "  70000/ 200000: 2.1996\n",
      "  80000/ 200000: 2.4853\n",
      "  90000/ 200000: 1.8417\n",
      " 100000/ 200000: 1.7765\n",
      " 110000/ 200000: 2.1086\n",
      " 120000/ 200000: 1.9688\n",
      " 130000/ 200000: 1.7744\n",
      " 140000/ 200000: 2.3335\n",
      " 150000/ 200000: 1.9149\n",
      " 160000/ 200000: 1.5684\n",
      " 170000/ 200000: 2.0051\n",
      " 180000/ 200000: 1.8906\n",
      " 190000/ 200000: 1.8431\n"
     ]
    }
   ],
   "source": [
    "# same optimization as last time\n",
    "max_steps = 200000\n",
    "batch_size = 32\n",
    "lossi = []\n",
    "\n",
    "for i in range(max_steps):\n",
    "  \n",
    "  # minibatch construct\n",
    "  ix = torch.randint(0, Xtr.shape[0], (batch_size,))\n",
    "  Xb, Yb = Xtr[ix], Ytr[ix] # batch X,Y\n",
    "  \n",
    "  # forward pass\n",
    "  logits = model(Xb)\n",
    "  loss = F.cross_entropy(logits, Yb) # loss function\n",
    "  \n",
    "  # backward pass\n",
    "  for p in parameters:\n",
    "    p.grad = None\n",
    "  loss.backward()\n",
    "  \n",
    "  # update: simple SGD\n",
    "  lr = 0.1 if i < 150000 else 0.01 # step learning rate decay\n",
    "  for p in parameters:\n",
    "    p.data += -lr * p.grad\n",
    "\n",
    "  # track stats\n",
    "  if i % 10000 == 0: # print every once in a while\n",
    "    print(f'{i:7d}/{max_steps:7d}: {loss.item():.4f}')\n",
    "  lossi.append(loss.log10().item())\n"
   ]
  },
  {
   "cell_type": "code",
   "execution_count": 117,
   "id": "7a701d17-470c-4856-9ac7-8347dc9de819",
   "metadata": {},
   "outputs": [
    {
     "data": {
      "text/plain": [
       "[<matplotlib.lines.Line2D at 0x1190ee630>]"
      ]
     },
     "execution_count": 117,
     "metadata": {},
     "output_type": "execute_result"
    },
    {
     "data": {
      "image/png": "[encoded data removed]",
      "text/plain": [
       "<Figure size 640x480 with 1 Axes>"
      ]
     },
     "metadata": {},
     "output_type": "display_data"
    }
   ],
   "source": [
    "plt.plot(torch.tensor(lossi).view(-1, 1000).mean(1))"
   ]
  },
  {
   "cell_type": "code",
   "execution_count": 118,
   "id": "bb37cd5a-a145-4cc3-a102-6fe41bb6e58a",
   "metadata": {},
   "outputs": [],
   "source": [
    "# put layers into eval mode (needed for batchnorm especially)\n",
    "for layer in model.layers:\n",
    "  layer.training = False"
   ]
  },
  {
   "cell_type": "code",
   "execution_count": 119,
   "id": "c885abc8-1e4a-4f34-94b0-3207aded86d2",
   "metadata": {},
   "outputs": [
    {
     "name": "stdout",
     "output_type": "stream",
     "text": [
      "train 1.7663874626159668\n",
      "val 1.9856926202774048\n"
     ]
    }
   ],
   "source": [
    "# evaluate the loss\n",
    "@torch.no_grad() # this decorator disables gradient tracking inside pytorch\n",
    "def split_loss(split):\n",
    "  x,y = {\n",
    "    'train': (Xtr, Ytr),\n",
    "    'val': (Xdev, Ydev),\n",
    "    'test': (Xte, Yte),\n",
    "  }[split]\n",
    "  logits = model(x)\n",
    "  loss = F.cross_entropy(logits, y)\n",
    "  print(split, loss.item())\n",
    "\n",
    "split_loss('train')\n",
    "split_loss('val')"
   ]
  },
  {
   "cell_type": "markdown",
   "id": "3ecb76da-b843-498f-8608-fcb30c5217b2",
   "metadata": {},
   "source": [
    "### Performance Log\n",
    "\n",
    "- original (3 character context + 200 hidden neurons, 12K params): train 2.058, val 2.105\n",
    "- context: 3 -> 8 (22K params): train 1.918, val 2.027\n",
    "- flat -> hierarchical (22K params): train 1.941, val 2.029\n",
    "- fix bug in batchnorm: train 1.912, val 2.022\n",
    "- scale up the network: n_embd 24, n_hidden 128 (76K params): train 1.769, val 1.993\n"
   ]
  },
  {
   "cell_type": "code",
   "execution_count": 120,
   "id": "ddbb64fe-ee97-4ff3-802c-7f08776d938d",
   "metadata": {},
   "outputs": [
    {
     "name": "stdout",
     "output_type": "stream",
     "text": [
      "jlessy.\n",
      "rayland.\n",
      "emilyssi.\n",
      "kjtan.\n",
      "kamira.\n",
      "rosialee.\n",
      "yuwon.\n",
      "allima.\n",
      "benja.\n",
      "maiz.\n",
      "marks.\n",
      "samron.\n",
      "maeveona.\n",
      "mahari.\n",
      "rinclaina.\n",
      "aalyn.\n",
      "dhya.\n",
      "bradyn.\n",
      "laelie.\n",
      "lilliana.\n"
     ]
    }
   ],
   "source": [
    "# sample from the model\n",
    "for _ in range(20):\n",
    "    \n",
    "    out = []\n",
    "    context = [0] * block_size # initialize with all ...\n",
    "    while True:\n",
    "      # forward pass the neural net\n",
    "      logits = model(torch.tensor([context]))\n",
    "      probs = F.softmax(logits, dim=1)\n",
    "      # sample from the distribution\n",
    "      ix = torch.multinomial(probs, num_samples=1).item()\n",
    "      # shift the context window and track the samples\n",
    "      context = context[1:] + [ix]\n",
    "      out.append(ix)\n",
    "      # if we sample the special '.' token, break\n",
    "      if ix == 0:\n",
    "        break\n",
    "    \n",
    "    print(''.join(itos[i] for i in out)) # decode and print the generated word"
   ]
  }
 ],
 "metadata": {
  "kernelspec": {
   "display_name": "Python 3 (ipykernel)",
   "language": "python",
   "name": "python3"
  },
  "language_info": {
   "codemirror_mode": {
    "name": "ipython",
    "version": 3
   },
   "file_extension": ".py",
   "mimetype": "text/x-python",
   "name": "python",
   "nbconvert_exporter": "python",
   "pygments_lexer": "ipython3",
   "version": "3.12.6"
  }
 },
 "nbformat": 4,
 "nbformat_minor": 5
}
